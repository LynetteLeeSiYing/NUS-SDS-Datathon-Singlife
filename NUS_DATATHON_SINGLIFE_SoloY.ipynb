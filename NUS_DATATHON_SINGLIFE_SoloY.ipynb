{
 "cells": [
  {
   "cell_type": "markdown",
   "metadata": {},
   "source": [
    "##### The cell below is for you to keep track of the libraries used and install those libraries quickly\n",
    "##### Ensure that the proper library names are used and the syntax of `%pip install PACKAGE_NAME` is followed"
   ]
  },
  {
   "cell_type": "code",
   "execution_count": 183,
   "metadata": {},
   "outputs": [
    {
     "name": "stdout",
     "output_type": "stream",
     "text": [
      "Note: you may need to restart the kernel to use updated packages.\n",
      "Requirement already satisfied: scikit-learn in c:\\users\\alvin\\appdata\\local\\programs\\python\\python311\\lib\\site-packages (1.4.0)\n",
      "Requirement already satisfied: numpy<2.0,>=1.19.5 in c:\\users\\alvin\\appdata\\local\\programs\\python\\python311\\lib\\site-packages (from scikit-learn) (1.25.2)\n",
      "Requirement already satisfied: scipy>=1.6.0 in c:\\users\\alvin\\appdata\\local\\programs\\python\\python311\\lib\\site-packages (from scikit-learn) (1.11.4)\n",
      "Requirement already satisfied: joblib>=1.2.0 in c:\\users\\alvin\\appdata\\local\\programs\\python\\python311\\lib\\site-packages (from scikit-learn) (1.3.2)\n",
      "Requirement already satisfied: threadpoolctl>=2.0.0 in c:\\users\\alvin\\appdata\\local\\programs\\python\\python311\\lib\\site-packages (from scikit-learn) (3.2.0)\n"
     ]
    },
    {
     "name": "stderr",
     "output_type": "stream",
     "text": [
      "\n",
      "[notice] A new release of pip is available: 23.3.1 -> 23.3.2\n",
      "[notice] To update, run: python.exe -m pip install --upgrade pip\n"
     ]
    },
    {
     "name": "stdout",
     "output_type": "stream",
     "text": [
      "Requirement already satisfied: seaborn in c:\\users\\alvin\\appdata\\local\\programs\\python\\python311\\lib\\site-packages (0.12.2)\n",
      "Requirement already satisfied: numpy!=1.24.0,>=1.17 in c:\\users\\alvin\\appdata\\local\\programs\\python\\python311\\lib\\site-packages (from seaborn) (1.25.2)\n",
      "Requirement already satisfied: pandas>=0.25 in c:\\users\\alvin\\appdata\\local\\programs\\python\\python311\\lib\\site-packages (from seaborn) (2.1.4)\n",
      "Requirement already satisfied: matplotlib!=3.6.1,>=3.1 in c:\\users\\alvin\\appdata\\local\\programs\\python\\python311\\lib\\site-packages (from seaborn) (3.8.2)\n",
      "Requirement already satisfied: contourpy>=1.0.1 in c:\\users\\alvin\\appdata\\local\\programs\\python\\python311\\lib\\site-packages (from matplotlib!=3.6.1,>=3.1->seaborn) (1.2.0)\n",
      "Requirement already satisfied: cycler>=0.10 in c:\\users\\alvin\\appdata\\local\\programs\\python\\python311\\lib\\site-packages (from matplotlib!=3.6.1,>=3.1->seaborn) (0.12.1)\n",
      "Requirement already satisfied: fonttools>=4.22.0 in c:\\users\\alvin\\appdata\\local\\programs\\python\\python311\\lib\\site-packages (from matplotlib!=3.6.1,>=3.1->seaborn) (4.47.0)\n",
      "Requirement already satisfied: kiwisolver>=1.3.1 in c:\\users\\alvin\\appdata\\local\\programs\\python\\python311\\lib\\site-packages (from matplotlib!=3.6.1,>=3.1->seaborn) (1.4.5)\n",
      "Requirement already satisfied: packaging>=20.0 in c:\\users\\alvin\\appdata\\local\\programs\\python\\python311\\lib\\site-packages (from matplotlib!=3.6.1,>=3.1->seaborn) (23.2)\n",
      "Requirement already satisfied: pillow>=8 in c:\\users\\alvin\\appdata\\local\\programs\\python\\python311\\lib\\site-packages (from matplotlib!=3.6.1,>=3.1->seaborn) (10.1.0)\n",
      "Requirement already satisfied: pyparsing>=2.3.1 in c:\\users\\alvin\\appdata\\local\\programs\\python\\python311\\lib\\site-packages (from matplotlib!=3.6.1,>=3.1->seaborn) (3.1.1)\n",
      "Requirement already satisfied: python-dateutil>=2.7 in c:\\users\\alvin\\appdata\\local\\programs\\python\\python311\\lib\\site-packages (from matplotlib!=3.6.1,>=3.1->seaborn) (2.8.2)\n",
      "Requirement already satisfied: pytz>=2020.1 in c:\\users\\alvin\\appdata\\local\\programs\\python\\python311\\lib\\site-packages (from pandas>=0.25->seaborn) (2023.3.post1)\n",
      "Requirement already satisfied: tzdata>=2022.1 in c:\\users\\alvin\\appdata\\local\\programs\\python\\python311\\lib\\site-packages (from pandas>=0.25->seaborn) (2023.3)\n",
      "Requirement already satisfied: six>=1.5 in c:\\users\\alvin\\appdata\\local\\programs\\python\\python311\\lib\\site-packages (from python-dateutil>=2.7->matplotlib!=3.6.1,>=3.1->seaborn) (1.16.0)\n",
      "Note: you may need to restart the kernel to use updated packages.\n"
     ]
    },
    {
     "name": "stderr",
     "output_type": "stream",
     "text": [
      "\n",
      "[notice] A new release of pip is available: 23.3.1 -> 23.3.2\n",
      "[notice] To update, run: python.exe -m pip install --upgrade pip\n"
     ]
    },
    {
     "name": "stdout",
     "output_type": "stream",
     "text": [
      "Requirement already satisfied: imbalanced-learn in c:\\users\\alvin\\appdata\\local\\programs\\python\\python311\\lib\\site-packages (0.12.0)\n",
      "Requirement already satisfied: numpy>=1.17.3 in c:\\users\\alvin\\appdata\\local\\programs\\python\\python311\\lib\\site-packages (from imbalanced-learn) (1.25.2)\n",
      "Requirement already satisfied: scipy>=1.5.0 in c:\\users\\alvin\\appdata\\local\\programs\\python\\python311\\lib\\site-packages (from imbalanced-learn) (1.11.4)\n",
      "Requirement already satisfied: scikit-learn>=1.0.2 in c:\\users\\alvin\\appdata\\local\\programs\\python\\python311\\lib\\site-packages (from imbalanced-learn) (1.4.0)\n",
      "Requirement already satisfied: joblib>=1.1.1 in c:\\users\\alvin\\appdata\\local\\programs\\python\\python311\\lib\\site-packages (from imbalanced-learn) (1.3.2)\n",
      "Requirement already satisfied: threadpoolctl>=2.0.0 in c:\\users\\alvin\\appdata\\local\\programs\\python\\python311\\lib\\site-packages (from imbalanced-learn) (3.2.0)\n",
      "Note: you may need to restart the kernel to use updated packages.\n"
     ]
    },
    {
     "name": "stderr",
     "output_type": "stream",
     "text": [
      "\n",
      "[notice] A new release of pip is available: 23.3.1 -> 23.3.2\n",
      "[notice] To update, run: python.exe -m pip install --upgrade pip\n"
     ]
    },
    {
     "name": "stdout",
     "output_type": "stream",
     "text": [
      "Requirement already satisfied: ydata-profiling in c:\\users\\alvin\\appdata\\local\\programs\\python\\python311\\lib\\site-packages (4.6.4)Note: you may need to restart the kernel to use updated packages.\n",
      "\n",
      "Requirement already satisfied: scipy<1.12,>=1.4.1 in c:\\users\\alvin\\appdata\\local\\programs\\python\\python311\\lib\\site-packages (from ydata-profiling) (1.11.4)\n",
      "Requirement already satisfied: pandas!=1.4.0,<3,>1.1 in c:\\users\\alvin\\appdata\\local\\programs\\python\\python311\\lib\\site-packages (from ydata-profiling) (2.1.4)\n",
      "Requirement already satisfied: matplotlib<3.9,>=3.2 in c:\\users\\alvin\\appdata\\local\\programs\\python\\python311\\lib\\site-packages (from ydata-profiling) (3.8.2)\n",
      "Requirement already satisfied: pydantic>=2 in c:\\users\\alvin\\appdata\\local\\programs\\python\\python311\\lib\\site-packages (from ydata-profiling) (2.5.3)\n",
      "Requirement already satisfied: PyYAML<6.1,>=5.0.0 in c:\\users\\alvin\\appdata\\local\\programs\\python\\python311\\lib\\site-packages (from ydata-profiling) (6.0.1)\n",
      "Requirement already satisfied: jinja2<3.2,>=2.11.1 in c:\\users\\alvin\\appdata\\local\\programs\\python\\python311\\lib\\site-packages (from ydata-profiling) (3.1.2)\n",
      "Requirement already satisfied: visions==0.7.5 in c:\\users\\alvin\\appdata\\local\\programs\\python\\python311\\lib\\site-packages (from visions[type_image_path]==0.7.5->ydata-profiling) (0.7.5)\n",
      "Requirement already satisfied: numpy<1.26,>=1.16.0 in c:\\users\\alvin\\appdata\\local\\programs\\python\\python311\\lib\\site-packages (from ydata-profiling) (1.25.2)\n",
      "Requirement already satisfied: htmlmin==0.1.12 in c:\\users\\alvin\\appdata\\local\\programs\\python\\python311\\lib\\site-packages (from ydata-profiling) (0.1.12)\n",
      "Requirement already satisfied: phik<0.13,>=0.11.1 in c:\\users\\alvin\\appdata\\local\\programs\\python\\python311\\lib\\site-packages (from ydata-profiling) (0.12.4)\n",
      "Requirement already satisfied: requests<3,>=2.24.0 in c:\\users\\alvin\\appdata\\local\\programs\\python\\python311\\lib\\site-packages (from ydata-profiling) (2.31.0)\n",
      "Requirement already satisfied: tqdm<5,>=4.48.2 in c:\\users\\alvin\\appdata\\local\\programs\\python\\python311\\lib\\site-packages (from ydata-profiling) (4.66.1)\n",
      "Requirement already satisfied: seaborn<0.13,>=0.10.1 in c:\\users\\alvin\\appdata\\local\\programs\\python\\python311\\lib\\site-packages (from ydata-profiling) (0.12.2)\n",
      "Requirement already satisfied: multimethod<2,>=1.4 in c:\\users\\alvin\\appdata\\local\\programs\\python\\python311\\lib\\site-packages (from ydata-profiling) (1.11)\n",
      "Requirement already satisfied: statsmodels<1,>=0.13.2 in c:\\users\\alvin\\appdata\\local\\programs\\python\\python311\\lib\\site-packages (from ydata-profiling) (0.14.1)\n",
      "Requirement already satisfied: typeguard<5,>=4.1.2 in c:\\users\\alvin\\appdata\\local\\programs\\python\\python311\\lib\\site-packages (from ydata-profiling) (4.1.5)\n",
      "Requirement already satisfied: imagehash==4.3.1 in c:\\users\\alvin\\appdata\\local\\programs\\python\\python311\\lib\\site-packages (from ydata-profiling) (4.3.1)\n",
      "Requirement already satisfied: wordcloud>=1.9.1 in c:\\users\\alvin\\appdata\\local\\programs\\python\\python311\\lib\\site-packages (from ydata-profiling) (1.9.3)\n",
      "Requirement already satisfied: dacite>=1.8 in c:\\users\\alvin\\appdata\\local\\programs\\python\\python311\\lib\\site-packages (from ydata-profiling) (1.8.1)\n",
      "Requirement already satisfied: numba<0.59.0,>=0.56.0 in c:\\users\\alvin\\appdata\\local\\programs\\python\\python311\\lib\\site-packages (from ydata-profiling) (0.58.1)\n",
      "Requirement already satisfied: PyWavelets in c:\\users\\alvin\\appdata\\local\\programs\\python\\python311\\lib\\site-packages (from imagehash==4.3.1->ydata-profiling) (1.5.0)\n",
      "Requirement already satisfied: pillow in c:\\users\\alvin\\appdata\\local\\programs\\python\\python311\\lib\\site-packages (from imagehash==4.3.1->ydata-profiling) (10.1.0)\n",
      "Requirement already satisfied: attrs>=19.3.0 in c:\\users\\alvin\\appdata\\local\\programs\\python\\python311\\lib\\site-packages (from visions==0.7.5->visions[type_image_path]==0.7.5->ydata-profiling) (23.1.0)\n",
      "Requirement already satisfied: networkx>=2.4 in c:\\users\\alvin\\appdata\\local\\programs\\python\\python311\\lib\\site-packages (from visions==0.7.5->visions[type_image_path]==0.7.5->ydata-profiling) (3.2.1)\n",
      "Requirement already satisfied: tangled-up-in-unicode>=0.0.4 in c:\\users\\alvin\\appdata\\local\\programs\\python\\python311\\lib\\site-packages (from visions==0.7.5->visions[type_image_path]==0.7.5->ydata-profiling) (0.2.0)\n",
      "Requirement already satisfied: MarkupSafe>=2.0 in c:\\users\\alvin\\appdata\\local\\programs\\python\\python311\\lib\\site-packages (from jinja2<3.2,>=2.11.1->ydata-profiling) (2.1.3)\n",
      "Requirement already satisfied: contourpy>=1.0.1 in c:\\users\\alvin\\appdata\\local\\programs\\python\\python311\\lib\\site-packages (from matplotlib<3.9,>=3.2->ydata-profiling) (1.2.0)\n",
      "Requirement already satisfied: cycler>=0.10 in c:\\users\\alvin\\appdata\\local\\programs\\python\\python311\\lib\\site-packages (from matplotlib<3.9,>=3.2->ydata-profiling) (0.12.1)\n",
      "Requirement already satisfied: fonttools>=4.22.0 in c:\\users\\alvin\\appdata\\local\\programs\\python\\python311\\lib\\site-packages (from matplotlib<3.9,>=3.2->ydata-profiling) (4.47.0)\n",
      "Requirement already satisfied: kiwisolver>=1.3.1 in c:\\users\\alvin\\appdata\\local\\programs\\python\\python311\\lib\\site-packages (from matplotlib<3.9,>=3.2->ydata-profiling) (1.4.5)\n",
      "Requirement already satisfied: packaging>=20.0 in c:\\users\\alvin\\appdata\\local\\programs\\python\\python311\\lib\\site-packages (from matplotlib<3.9,>=3.2->ydata-profiling) (23.2)\n",
      "Requirement already satisfied: pyparsing>=2.3.1 in c:\\users\\alvin\\appdata\\local\\programs\\python\\python311\\lib\\site-packages (from matplotlib<3.9,>=3.2->ydata-profiling) (3.1.1)\n",
      "Requirement already satisfied: python-dateutil>=2.7 in c:\\users\\alvin\\appdata\\local\\programs\\python\\python311\\lib\\site-packages (from matplotlib<3.9,>=3.2->ydata-profiling) (2.8.2)\n",
      "Requirement already satisfied: llvmlite<0.42,>=0.41.0dev0 in c:\\users\\alvin\\appdata\\local\\programs\\python\\python311\\lib\\site-packages (from numba<0.59.0,>=0.56.0->ydata-profiling) (0.41.1)\n",
      "Requirement already satisfied: pytz>=2020.1 in c:\\users\\alvin\\appdata\\local\\programs\\python\\python311\\lib\\site-packages (from pandas!=1.4.0,<3,>1.1->ydata-profiling) (2023.3.post1)\n",
      "Requirement already satisfied: tzdata>=2022.1 in c:\\users\\alvin\\appdata\\local\\programs\\python\\python311\\lib\\site-packages (from pandas!=1.4.0,<3,>1.1->ydata-profiling) (2023.3)\n",
      "Requirement already satisfied: joblib>=0.14.1 in c:\\users\\alvin\\appdata\\local\\programs\\python\\python311\\lib\\site-packages (from phik<0.13,>=0.11.1->ydata-profiling) (1.3.2)\n",
      "Requirement already satisfied: annotated-types>=0.4.0 in c:\\users\\alvin\\appdata\\local\\programs\\python\\python311\\lib\\site-packages (from pydantic>=2->ydata-profiling) (0.6.0)\n",
      "Requirement already satisfied: pydantic-core==2.14.6 in c:\\users\\alvin\\appdata\\local\\programs\\python\\python311\\lib\\site-packages (from pydantic>=2->ydata-profiling) (2.14.6)\n",
      "Requirement already satisfied: typing-extensions>=4.6.1 in c:\\users\\alvin\\appdata\\local\\programs\\python\\python311\\lib\\site-packages (from pydantic>=2->ydata-profiling) (4.9.0)\n",
      "Requirement already satisfied: charset-normalizer<4,>=2 in c:\\users\\alvin\\appdata\\local\\programs\\python\\python311\\lib\\site-packages (from requests<3,>=2.24.0->ydata-profiling) (3.3.2)\n",
      "Requirement already satisfied: idna<4,>=2.5 in c:\\users\\alvin\\appdata\\local\\programs\\python\\python311\\lib\\site-packages (from requests<3,>=2.24.0->ydata-profiling) (3.6)\n",
      "Requirement already satisfied: urllib3<3,>=1.21.1 in c:\\users\\alvin\\appdata\\local\\programs\\python\\python311\\lib\\site-packages (from requests<3,>=2.24.0->ydata-profiling) (2.1.0)\n",
      "Requirement already satisfied: certifi>=2017.4.17 in c:\\users\\alvin\\appdata\\local\\programs\\python\\python311\\lib\\site-packages (from requests<3,>=2.24.0->ydata-profiling) (2023.11.17)\n",
      "Requirement already satisfied: patsy>=0.5.4 in c:\\users\\alvin\\appdata\\local\\programs\\python\\python311\\lib\\site-packages (from statsmodels<1,>=0.13.2->ydata-profiling) (0.5.6)\n",
      "Requirement already satisfied: colorama in c:\\users\\alvin\\appdata\\local\\programs\\python\\python311\\lib\\site-packages (from tqdm<5,>=4.48.2->ydata-profiling) (0.4.6)\n",
      "Requirement already satisfied: six in c:\\users\\alvin\\appdata\\local\\programs\\python\\python311\\lib\\site-packages (from patsy>=0.5.4->statsmodels<1,>=0.13.2->ydata-profiling) (1.16.0)\n"
     ]
    },
    {
     "name": "stderr",
     "output_type": "stream",
     "text": [
      "\n",
      "[notice] A new release of pip is available: 23.3.1 -> 23.3.2\n",
      "[notice] To update, run: python.exe -m pip install --upgrade pip\n"
     ]
    }
   ],
   "source": [
    "#%pip install pandas \n",
    "#%pip install matplotlib\n",
    "%pip install scikit-learn\n",
    "%pip install seaborn\n",
    "%pip install imbalanced-learn\n",
    "%pip install ydata-profiling\n",
    "\n",
    "\n",
    "# add commented pip installation lines for packages used as shown above for ease of testing\n",
    "# the line should be of the format %pip install PACKAGE_NAME "
   ]
  },
  {
   "cell_type": "markdown",
   "metadata": {},
   "source": [
    "## **DO NOT CHANGE** the filepath variable\n",
    "##### Instead, create a folder named 'data' in your current working directory and \n",
    "##### have the .parquet file inside that. A relative path *must* be used when loading data into pandas"
   ]
  },
  {
   "cell_type": "code",
   "execution_count": 184,
   "metadata": {},
   "outputs": [],
   "source": [
    "# Can have as many cells as you want for code\n",
    "import pandas as pd\n",
    "filepath = \"./data/catB_train.parquet\" \n",
    "# the initialised filepath MUST be a relative path to a folder named data that contains the parquet file"
   ]
  },
  {
   "cell_type": "code",
   "execution_count": 185,
   "metadata": {},
   "outputs": [],
   "source": [
    "import pandas as pd\n",
    "from sklearn.impute import SimpleImputer\n",
    "\n",
    "df = pd.read_parquet(filepath, engine='pyarrow')\n",
    "\n",
    "def data_cleaning(df):\n",
    "    \n",
    "    #missing value\n",
    "    ##remove \n",
    "    thres = 75\n",
    "    for col in df.columns:\n",
    "        if col == 'f_purchase_lh':\n",
    "            continue;\n",
    "        percent = df[col].isna().sum()/df.shape[0]*100\n",
    "        if percent > thres:\n",
    "            df = df.drop(columns = col)\n",
    "    \n",
    "    ##impute\n",
    "    \n",
    "    numeric_cols = df.select_dtypes(include=[\"int64\", \"float64\"]).columns\n",
    "    numeric_cols = numeric_cols[numeric_cols !=  'f_purchase_lh']\n",
    "    df[numeric_cols] = df[numeric_cols].apply(lambda x: x.fillna(x.median()))\n",
    "    \n",
    "    object_imputer = SimpleImputer(missing_values = None, strategy='most_frequent')\n",
    "    object_cols_with_missing = df.columns[df.isnull().any() & (df.columns != 'f_purchase_lh')]\n",
    "    df[object_cols_with_missing] = object_imputer.fit_transform(df[object_cols_with_missing])\n",
    "    return df"
   ]
  },
  {
   "cell_type": "code",
   "execution_count": 186,
   "metadata": {},
   "outputs": [],
   "source": [
    "from sklearn.preprocessing import OrdinalEncoder\n",
    "\n",
    "def encode(df):\n",
    "\n",
    "    #ordinal encode\n",
    "    object_columns = df.select_dtypes('object').columns\n",
    "    ordinal_encoder = OrdinalEncoder()\n",
    "    for col in object_columns:\n",
    "         df[col] = ordinal_encoder.fit_transform(df[[col]])\n",
    "\n",
    "    return df\n"
   ]
  },
  {
   "cell_type": "markdown",
   "metadata": {},
   "source": [
    "### **ALL** Code for machine learning and dataset analysis should be entered below. \n",
    "##### Ensure that your code is clear and readable.\n",
    "##### Comments and Markdown notes are advised to direct attention to pieces of code you deem useful."
   ]
  },
  {
   "cell_type": "code",
   "execution_count": 187,
   "metadata": {},
   "outputs": [],
   "source": [
    "###...code...###"
   ]
  },
  {
   "cell_type": "code",
   "execution_count": 188,
   "metadata": {},
   "outputs": [],
   "source": [
    "#feature selection\n",
    "from sklearn.feature_selection import VarianceThreshold\n",
    "from sklearn.feature_selection import RFE\n",
    "from sklearn.linear_model import LogisticRegression\n",
    "from sklearn.model_selection import train_test_split\n",
    "from imblearn.over_sampling import SMOTE\n",
    "from sklearn.preprocessing import StandardScaler\n",
    "from sklearn.ensemble import RandomForestClassifier\n",
    "from sklearn.feature_selection import SelectFromModel\n",
    "\n",
    "def imbalance(df):\n",
    "    df['f_purchase_lh'] = df['f_purchase_lh'].fillna(-999)\n",
    "    X = df.drop('f_purchase_lh', axis=1)\n",
    "    y = df['f_purchase_lh']\n",
    "    target_column = 'f_purchase_lh'\n",
    "    #handle imbalance\n",
    "    smote = SMOTE(sampling_strategy='auto', random_state=42)\n",
    "    X_resampled, y_resampled = smote.fit_resample(X, y)\n",
    "    df_resampled = pd.concat([pd.DataFrame(X_resampled, columns=X.columns), pd.Series(y_resampled, name=target_column)], axis=1)\n",
    "    return df_resampled\n",
    "\n",
    "def feature_selection(df_resampled):\n",
    "    \n",
    "    X_resampled=df_resampled.drop('f_purchase_lh', axis=1)\n",
    "    \n",
    "    # Variance Threshold\n",
    "    selector = VarianceThreshold(threshold=0.05) \n",
    "    X_resampled_high_variance = selector.fit_transform(X_resampled)\n",
    "    \n",
    "    selected_indices = selector.get_support(indices=True)\n",
    "    selected_df = pd.DataFrame(X_resampled_high_variance, columns=X_resampled.columns[selected_indices])\n",
    "    selected_df['f_purchase_lh'] = df_resampled['f_purchase_lh']\n",
    "    \n",
    "    return selected_df"
   ]
  },
  {
   "cell_type": "code",
   "execution_count": 189,
   "metadata": {},
   "outputs": [],
   "source": [
    "#Implementing Logistic Regression using sklearn\n",
    "from sklearn.preprocessing import StandardScaler\n",
    "def scale_and_train(selected_df):\n",
    "    X = selected_df.drop('f_purchase_lh', axis=1)\n",
    "    y = selected_df['f_purchase_lh']\n",
    "    x_train, x_test, y_train, y_test = train_test_split(X,y, test_size= 0.2)\n",
    "    modelLogistic = LogisticRegression(solver='lbfgs', max_iter=1000)\n",
    "    scaler = StandardScaler()\n",
    "    x_train_scaled = scaler.fit_transform(x_train)\n",
    "    x_test_scaled = scaler.transform(x_test)\n",
    "    \n",
    "    modelLogistic.fit(x_train_scaled,y_train)\n",
    "    \n",
    "    # print(\"The intercept b0= \", modelLogistic.intercept_)\n",
    "    \n",
    "    # print(\"The coefficient b1= \", modelLogistic.coef_)\n",
    "    #Make prediction for the test data\n",
    "    y_pred= modelLogistic.predict(x_test_scaled)\n",
    "    return y_pred"
   ]
  },
  {
   "cell_type": "code",
   "execution_count": 190,
   "metadata": {},
   "outputs": [],
   "source": [
    "#accuracy test\n",
    "from sklearn.metrics import confusion_matrix, accuracy_score\n",
    "def test(y_test, y_pred):\n",
    "    ConfusionMatrix = confusion_matrix(y_test, y_pred)\n",
    "    TP= ConfusionMatrix[1,1] #True positive\n",
    "    TN= ConfusionMatrix[0,0] #True negative\n",
    "    print(\"Confusion Matrix:\")\n",
    "    print(ConfusionMatrix)\n",
    "    Total=len(y_test)\n",
    "    return accuracy_score(y_test, y_pred)\n",
    "    # return (TN+TP)/Total"
   ]
  },
  {
   "cell_type": "markdown",
   "metadata": {},
   "source": [
    "## The cell below is **NOT** to be removed\n",
    "##### The function is to be amended so that it accepts the given input (dataframe) and returns the required output (list). \n",
    "##### It is recommended to test the function out prior to submission\n",
    "-------------------------------------------------------------------------------------------------------------------------------\n",
    "##### The hidden_data parsed into the function below will have the same layout columns wise as the dataset *SENT* to you\n",
    "##### Thus, ensure that steps taken to modify the initial dataset to fit into the model are also carried out in the function below"
   ]
  },
  {
   "cell_type": "code",
   "execution_count": 191,
   "metadata": {},
   "outputs": [],
   "source": [
    "import matplotlib.pyplot as plt\n",
    "import seaborn as sns\n",
    "from ydata_profiling import ProfileReport\n",
    "def testing_hidden_data(hidden_data: pd.DataFrame) -> list:\n",
    "    '''DO NOT REMOVE THIS FUNCTION.\n",
    "\n",
    "The function accepts a dataframe as input and return an iterable (list)\n",
    "of binary classes as output.\n",
    "\n",
    "The function should be coded to test on hidden data\n",
    "and should include any preprocessing functions needed for your model to perform. \n",
    "    \n",
    "All relevant code MUST be included in this function.'''\n",
    "\n",
    "    df = data_cleaning(hidden_data)\n",
    "    df = encode(df)\n",
    "    df_resampled = imbalance(df)\n",
    "    selected_df = feature_selection(df_resampled)\n",
    " \n",
    "    result = [] \n",
    "    #scale and train data \n",
    "    X = selected_df.drop('f_purchase_lh', axis=1)\n",
    "    y = selected_df['f_purchase_lh']\n",
    "    x_train, x_test, y_train, y_test = train_test_split(X,y, test_size= 0.2)\n",
    "    modelLogistic = LogisticRegression(solver='lbfgs', max_iter=1000)\n",
    "    scaler = StandardScaler()\n",
    "    x_train_scaled = scaler.fit_transform(x_train)\n",
    "    x_test_scaled = scaler.transform(x_test)\n",
    "    \n",
    "    modelLogistic.fit(x_train_scaled,y_train)\n",
    "   \n",
    "    #Make prediction for the test data\n",
    "    y_pred = modelLogistic.predict(x_test_scaled)\n",
    "    accuracy = test(y_test, y_pred)\n",
    "    print(\"Accuracy from confusion matrix is \", accuracy)\n",
    "    result = y_pred.tolist()\n",
    "\n",
    "    return result"
   ]
  },
  {
   "cell_type": "markdown",
   "metadata": {},
   "source": [
    "##### Cell to check testing_hidden_data function"
   ]
  },
  {
   "cell_type": "code",
   "execution_count": 192,
   "metadata": {},
   "outputs": [
    {
     "name": "stdout",
     "output_type": "stream",
     "text": [
      "Confusion Matrix:\n",
      "[[3174  313]\n",
      " [ 493 2933]]\n",
      "Accuracy from confusion matrix is  0.8834080717488789\n",
      "[1.0, 1.0, -999.0, -999.0, -999.0, -999.0, -999.0, -999.0, -999.0, -999.0, 1.0, -999.0, 1.0, 1.0, 1.0, -999.0, 1.0, -999.0, -999.0, -999.0, -999.0, -999.0, -999.0, -999.0, -999.0, 1.0, -999.0, -999.0, 1.0, -999.0, -999.0, 1.0, -999.0, -999.0, -999.0, -999.0, 1.0, 1.0, -999.0, 1.0, 1.0, -999.0, 1.0, -999.0, -999.0, 1.0, -999.0, 1.0, 1.0, 1.0, 1.0, 1.0, 1.0, -999.0, -999.0, -999.0, -999.0, -999.0, 1.0, -999.0, -999.0, -999.0, -999.0, 1.0, 1.0, -999.0, 1.0, 1.0, 1.0, -999.0, -999.0, -999.0, -999.0, -999.0, -999.0, -999.0, -999.0, -999.0, -999.0, -999.0, 1.0, 1.0, -999.0, 1.0, 1.0, 1.0, -999.0, 1.0, -999.0, -999.0, -999.0, -999.0, -999.0, -999.0, 1.0, -999.0, -999.0, -999.0, -999.0, 1.0, 1.0, 1.0, -999.0, 1.0, 1.0, -999.0, -999.0, 1.0, 1.0, -999.0, -999.0, 1.0, 1.0, -999.0, -999.0, 1.0, -999.0, -999.0, 1.0, 1.0, -999.0, -999.0, -999.0, -999.0, 1.0, -999.0, -999.0, -999.0, 1.0, -999.0, -999.0, -999.0, -999.0, 1.0, -999.0, 1.0, -999.0, -999.0, -999.0, -999.0, 1.0, -999.0, -999.0, 1.0, 1.0, -999.0, -999.0, -999.0, 1.0, -999.0, 1.0, 1.0, -999.0, 1.0, -999.0, -999.0, -999.0, -999.0, 1.0, 1.0, 1.0, -999.0, 1.0, -999.0, -999.0, -999.0, -999.0, 1.0, -999.0, 1.0, -999.0, 1.0, 1.0, 1.0, 1.0, -999.0, 1.0, -999.0, -999.0, 1.0, -999.0, -999.0, -999.0, -999.0, 1.0, 1.0, -999.0, 1.0, 1.0, 1.0, -999.0, -999.0, -999.0, 1.0, -999.0, 1.0, 1.0, 1.0, -999.0, -999.0, -999.0, -999.0, 1.0, 1.0, -999.0, 1.0, -999.0, 1.0, -999.0, -999.0, 1.0, 1.0, -999.0, 1.0, -999.0, -999.0, 1.0, 1.0, -999.0, 1.0, 1.0, -999.0, -999.0, 1.0, -999.0, -999.0, -999.0, -999.0, -999.0, 1.0, -999.0, 1.0, -999.0, 1.0, -999.0, -999.0, 1.0, -999.0, -999.0, -999.0, -999.0, -999.0, 1.0, -999.0, -999.0, 1.0, -999.0, -999.0, -999.0, 1.0, -999.0, -999.0, 1.0, 1.0, 1.0, -999.0, -999.0, -999.0, -999.0, -999.0, -999.0, 1.0, 1.0, 1.0, 1.0, 1.0, 1.0, 1.0, -999.0, -999.0, 1.0, -999.0, 1.0, 1.0, -999.0, 1.0, -999.0, 1.0, 1.0, 1.0, -999.0, -999.0, 1.0, -999.0, 1.0, -999.0, -999.0, 1.0, -999.0, -999.0, 1.0, 1.0, 1.0, 1.0, -999.0, -999.0, 1.0, -999.0, -999.0, 1.0, -999.0, -999.0, -999.0, -999.0, 1.0, -999.0, 1.0, -999.0, -999.0, 1.0, -999.0, 1.0, -999.0, -999.0, 1.0, 1.0, -999.0, -999.0, -999.0, -999.0, -999.0, -999.0, -999.0, -999.0, 1.0, -999.0, 1.0, 1.0, -999.0, -999.0, -999.0, -999.0, -999.0, 1.0, 1.0, -999.0, 1.0, 1.0, 1.0, -999.0, 1.0, -999.0, 1.0, -999.0, -999.0, -999.0, -999.0, -999.0, 1.0, 1.0, -999.0, -999.0, 1.0, 1.0, 1.0, -999.0, -999.0, 1.0, 1.0, 1.0, -999.0, -999.0, -999.0, 1.0, 1.0, -999.0, -999.0, -999.0, -999.0, -999.0, 1.0, 1.0, 1.0, 1.0, -999.0, 1.0, -999.0, -999.0, -999.0, 1.0, -999.0, -999.0, -999.0, 1.0, 1.0, 1.0, 1.0, 1.0, -999.0, 1.0, -999.0, 1.0, -999.0, -999.0, 1.0, -999.0, 1.0, -999.0, -999.0, 1.0, 1.0, -999.0, -999.0, 1.0, -999.0, -999.0, -999.0, 1.0, 1.0, -999.0, -999.0, -999.0, 1.0, -999.0, 1.0, 1.0, 1.0, -999.0, 1.0, 1.0, 1.0, 1.0, 1.0, 1.0, -999.0, -999.0, -999.0, -999.0, -999.0, 1.0, -999.0, 1.0, -999.0, -999.0, -999.0, -999.0, 1.0, -999.0, -999.0, -999.0, -999.0, 1.0, -999.0, -999.0, -999.0, -999.0, -999.0, 1.0, 1.0, -999.0, -999.0, -999.0, 1.0, 1.0, -999.0, 1.0, 1.0, 1.0, 1.0, 1.0, 1.0, -999.0, -999.0, 1.0, -999.0, -999.0, -999.0, -999.0, 1.0, 1.0, 1.0, 1.0, 1.0, 1.0, 1.0, -999.0, -999.0, 1.0, 1.0, -999.0, -999.0, 1.0, 1.0, -999.0, -999.0, -999.0, 1.0, 1.0, -999.0, -999.0, 1.0, 1.0, 1.0, -999.0, 1.0, -999.0, -999.0, 1.0, -999.0, 1.0, -999.0, -999.0, -999.0, 1.0, -999.0, 1.0, -999.0, 1.0, -999.0, -999.0, -999.0, 1.0, 1.0, -999.0, -999.0, -999.0, 1.0, 1.0, -999.0, 1.0, -999.0, -999.0, -999.0, -999.0, 1.0, -999.0, -999.0, 1.0, 1.0, -999.0, -999.0, 1.0, -999.0, 1.0, -999.0, -999.0, -999.0, -999.0, -999.0, -999.0, 1.0, 1.0, 1.0, 1.0, 1.0, 1.0, -999.0, -999.0, 1.0, -999.0, -999.0, -999.0, 1.0, 1.0, -999.0, 1.0, 1.0, 1.0, -999.0, -999.0, 1.0, -999.0, 1.0, 1.0, -999.0, -999.0, 1.0, 1.0, -999.0, 1.0, 1.0, 1.0, 1.0, 1.0, -999.0, -999.0, 1.0, -999.0, 1.0, 1.0, -999.0, -999.0, 1.0, -999.0, -999.0, -999.0, -999.0, 1.0, 1.0, 1.0, 1.0, -999.0, -999.0, 1.0, 1.0, 1.0, -999.0, 1.0, 1.0, -999.0, -999.0, -999.0, -999.0, 1.0, -999.0, 1.0, -999.0, 1.0, 1.0, 1.0, -999.0, -999.0, -999.0, 1.0, 1.0, -999.0, -999.0, -999.0, 1.0, -999.0, -999.0, 1.0, 1.0, 1.0, 1.0, 1.0, -999.0, -999.0, -999.0, -999.0, -999.0, 1.0, -999.0, 1.0, 1.0, -999.0, -999.0, 1.0, 1.0, 1.0, 1.0, -999.0, 1.0, -999.0, 1.0, 1.0, 1.0, 1.0, 1.0, -999.0, 1.0, 1.0, -999.0, 1.0, -999.0, 1.0, -999.0, 1.0, -999.0, -999.0, 1.0, 1.0, -999.0, -999.0, 1.0, 1.0, -999.0, -999.0, 1.0, -999.0, -999.0, -999.0, -999.0, -999.0, 1.0, -999.0, 1.0, 1.0, 1.0, 1.0, -999.0, -999.0, -999.0, 1.0, -999.0, -999.0, 1.0, 1.0, -999.0, 1.0, 1.0, 1.0, 1.0, -999.0, 1.0, 1.0, -999.0, 1.0, -999.0, 1.0, -999.0, 1.0, -999.0, -999.0, -999.0, -999.0, 1.0, 1.0, -999.0, -999.0, 1.0, 1.0, 1.0, -999.0, 1.0, 1.0, -999.0, 1.0, -999.0, 1.0, 1.0, -999.0, 1.0, 1.0, -999.0, 1.0, 1.0, -999.0, 1.0, -999.0, 1.0, -999.0, 1.0, -999.0, 1.0, 1.0, 1.0, -999.0, 1.0, -999.0, -999.0, -999.0, -999.0, -999.0, -999.0, 1.0, 1.0, -999.0, 1.0, 1.0, 1.0, -999.0, -999.0, 1.0, 1.0, -999.0, -999.0, -999.0, -999.0, -999.0, 1.0, 1.0, 1.0, 1.0, -999.0, -999.0, -999.0, -999.0, 1.0, 1.0, 1.0, 1.0, 1.0, 1.0, 1.0, 1.0, -999.0, 1.0, 1.0, 1.0, -999.0, 1.0, 1.0, 1.0, -999.0, 1.0, 1.0, 1.0, -999.0, 1.0, -999.0, -999.0, 1.0, -999.0, 1.0, 1.0, 1.0, -999.0, -999.0, -999.0, 1.0, -999.0, -999.0, -999.0, -999.0, -999.0, 1.0, -999.0, 1.0, -999.0, 1.0, -999.0, -999.0, -999.0, 1.0, 1.0, -999.0, 1.0, 1.0, -999.0, 1.0, 1.0, 1.0, 1.0, -999.0, -999.0, 1.0, -999.0, -999.0, 1.0, 1.0, -999.0, 1.0, -999.0, -999.0, -999.0, 1.0, 1.0, -999.0, -999.0, 1.0, 1.0, -999.0, 1.0, -999.0, -999.0, 1.0, 1.0, -999.0, 1.0, 1.0, 1.0, 1.0, -999.0, -999.0, -999.0, -999.0, 1.0, 1.0, 1.0, -999.0, 1.0, -999.0, -999.0, -999.0, 1.0, -999.0, 1.0, 1.0, 1.0, -999.0, -999.0, 1.0, 1.0, -999.0, -999.0, -999.0, 1.0, -999.0, 1.0, -999.0, 1.0, -999.0, 1.0, 1.0, -999.0, -999.0, -999.0, 1.0, -999.0, -999.0, 1.0, -999.0, 1.0, -999.0, 1.0, 1.0, 1.0, -999.0, -999.0, -999.0, -999.0, 1.0, -999.0, 1.0, -999.0, 1.0, 1.0, -999.0, -999.0, -999.0, -999.0, -999.0, -999.0, 1.0, 1.0, -999.0, 1.0, -999.0, 1.0, 1.0, 1.0, 1.0, 1.0, 1.0, 1.0, -999.0, 1.0, 1.0, -999.0, 1.0, 1.0, 1.0, -999.0, -999.0, -999.0, 1.0, -999.0, -999.0, 1.0, 1.0, 1.0, -999.0, -999.0, -999.0, -999.0, -999.0, -999.0, -999.0, 1.0, -999.0, 1.0, -999.0, -999.0, 1.0, -999.0, -999.0, 1.0, 1.0, 1.0, 1.0, -999.0, 1.0, 1.0, -999.0, -999.0, -999.0, 1.0, 1.0, -999.0, -999.0, 1.0, 1.0, 1.0, -999.0, 1.0, -999.0, -999.0, 1.0, -999.0, -999.0, 1.0, 1.0, 1.0, 1.0, 1.0, -999.0, -999.0, -999.0, -999.0, 1.0, 1.0, -999.0, 1.0, -999.0, -999.0, -999.0, -999.0, 1.0, -999.0, 1.0, -999.0, -999.0, -999.0, 1.0, -999.0, -999.0, 1.0, 1.0, -999.0, 1.0, 1.0, 1.0, -999.0, 1.0, 1.0, 1.0, -999.0, 1.0, 1.0, -999.0, 1.0, -999.0, 1.0, 1.0, 1.0, 1.0, 1.0, 1.0, -999.0, 1.0, -999.0, 1.0, -999.0, 1.0, 1.0, -999.0, 1.0, 1.0, 1.0, 1.0, -999.0, -999.0, 1.0, 1.0, -999.0, -999.0, -999.0, 1.0, -999.0, -999.0, 1.0, 1.0, 1.0, -999.0, 1.0, 1.0, -999.0, -999.0, -999.0, -999.0, -999.0, 1.0, 1.0, -999.0, -999.0, 1.0, -999.0, -999.0, 1.0, 1.0, 1.0, 1.0, 1.0, -999.0, 1.0, -999.0, -999.0, 1.0, 1.0, 1.0, 1.0, 1.0, -999.0, 1.0, 1.0, 1.0, 1.0, -999.0, -999.0, -999.0, -999.0, -999.0, -999.0, 1.0, -999.0, -999.0, 1.0, 1.0, 1.0, -999.0, -999.0, -999.0, 1.0, -999.0, 1.0, -999.0, 1.0, -999.0, -999.0, -999.0, -999.0, -999.0, -999.0, -999.0, -999.0, 1.0, -999.0, 1.0, 1.0, 1.0, -999.0, -999.0, -999.0, 1.0, 1.0, 1.0, -999.0, -999.0, 1.0, -999.0, -999.0, -999.0, -999.0, 1.0, -999.0, -999.0, -999.0, -999.0, 1.0, -999.0, -999.0, 1.0, -999.0, -999.0, 1.0, 1.0, -999.0, 1.0, 1.0, 1.0, -999.0, -999.0, 1.0, -999.0, -999.0, -999.0, -999.0, -999.0, -999.0, 1.0, -999.0, 1.0, 1.0, 1.0, 1.0, 1.0, -999.0, 1.0, -999.0, 1.0, -999.0, -999.0, -999.0, -999.0, -999.0, 1.0, -999.0, -999.0, -999.0, -999.0, 1.0, 1.0, 1.0, 1.0, 1.0, 1.0, -999.0, 1.0, -999.0, 1.0, -999.0, -999.0, -999.0, -999.0, 1.0, -999.0, -999.0, 1.0, -999.0, 1.0, 1.0, -999.0, -999.0, -999.0, -999.0, 1.0, 1.0, -999.0, -999.0, -999.0, 1.0, -999.0, -999.0, -999.0, -999.0, -999.0, -999.0, -999.0, -999.0, 1.0, -999.0, -999.0, 1.0, -999.0, 1.0, -999.0, 1.0, -999.0, -999.0, -999.0, 1.0, -999.0, 1.0, -999.0, 1.0, -999.0, 1.0, -999.0, -999.0, 1.0, 1.0, 1.0, 1.0, 1.0, 1.0, -999.0, 1.0, -999.0, -999.0, -999.0, 1.0, 1.0, 1.0, -999.0, -999.0, -999.0, 1.0, 1.0, -999.0, -999.0, 1.0, -999.0, 1.0, -999.0, -999.0, -999.0, -999.0, -999.0, -999.0, 1.0, 1.0, 1.0, 1.0, -999.0, -999.0, 1.0, -999.0, -999.0, -999.0, 1.0, 1.0, 1.0, 1.0, -999.0, 1.0, 1.0, 1.0, 1.0, -999.0, 1.0, -999.0, -999.0, 1.0, -999.0, 1.0, 1.0, 1.0, -999.0, -999.0, 1.0, 1.0, -999.0, -999.0, 1.0, -999.0, -999.0, -999.0, 1.0, 1.0, -999.0, 1.0, -999.0, 1.0, -999.0, 1.0, 1.0, 1.0, 1.0, 1.0, 1.0, -999.0, -999.0, 1.0, -999.0, 1.0, -999.0, 1.0, -999.0, 1.0, 1.0, -999.0, 1.0, 1.0, -999.0, 1.0, -999.0, -999.0, 1.0, 1.0, -999.0, -999.0, 1.0, 1.0, -999.0, 1.0, 1.0, 1.0, 1.0, -999.0, 1.0, -999.0, -999.0, 1.0, 1.0, -999.0, 1.0, 1.0, 1.0, -999.0, -999.0, 1.0, -999.0, -999.0, -999.0, -999.0, 1.0, 1.0, -999.0, 1.0, 1.0, -999.0, -999.0, 1.0, 1.0, -999.0, 1.0, -999.0, 1.0, 1.0, -999.0, -999.0, 1.0, 1.0, 1.0, 1.0, -999.0, -999.0, 1.0, -999.0, 1.0, 1.0, -999.0, -999.0, 1.0, -999.0, -999.0, -999.0, 1.0, -999.0, -999.0, 1.0, -999.0, -999.0, -999.0, 1.0, 1.0, 1.0, -999.0, 1.0, 1.0, 1.0, 1.0, 1.0, 1.0, 1.0, -999.0, -999.0, 1.0, 1.0, -999.0, -999.0, 1.0, 1.0, -999.0, -999.0, 1.0, -999.0, -999.0, -999.0, -999.0, 1.0, -999.0, 1.0, 1.0, 1.0, 1.0, 1.0, -999.0, 1.0, 1.0, 1.0, 1.0, -999.0, -999.0, -999.0, -999.0, 1.0, -999.0, -999.0, -999.0, -999.0, -999.0, 1.0, -999.0, 1.0, -999.0, 1.0, -999.0, 1.0, 1.0, -999.0, 1.0, 1.0, 1.0, -999.0, 1.0, -999.0, 1.0, 1.0, 1.0, 1.0, -999.0, 1.0, -999.0, -999.0, 1.0, -999.0, -999.0, -999.0, -999.0, 1.0, 1.0, -999.0, -999.0, 1.0, 1.0, 1.0, 1.0, -999.0, 1.0, -999.0, 1.0, 1.0, 1.0, -999.0, -999.0, 1.0, -999.0, -999.0, 1.0, 1.0, -999.0, 1.0, -999.0, -999.0, -999.0, 1.0, 1.0, 1.0, 1.0, -999.0, 1.0, 1.0, 1.0, 1.0, 1.0, -999.0, -999.0, -999.0, 1.0, -999.0, 1.0, -999.0, 1.0, -999.0, 1.0, 1.0, -999.0, 1.0, 1.0, -999.0, -999.0, -999.0, -999.0, -999.0, 1.0, -999.0, -999.0, -999.0, -999.0, -999.0, 1.0, 1.0, -999.0, -999.0, -999.0, -999.0, 1.0, 1.0, 1.0, -999.0, -999.0, 1.0, 1.0, -999.0, 1.0, 1.0, 1.0, -999.0, 1.0, -999.0, 1.0, 1.0, -999.0, 1.0, -999.0, 1.0, 1.0, -999.0, 1.0, 1.0, 1.0, 1.0, -999.0, 1.0, -999.0, -999.0, 1.0, 1.0, -999.0, 1.0, -999.0, 1.0, 1.0, -999.0, -999.0, -999.0, 1.0, -999.0, -999.0, 1.0, -999.0, -999.0, 1.0, 1.0, -999.0, -999.0, 1.0, 1.0, -999.0, -999.0, -999.0, -999.0, 1.0, -999.0, -999.0, -999.0, 1.0, 1.0, -999.0, 1.0, -999.0, -999.0, 1.0, 1.0, -999.0, -999.0, -999.0, -999.0, 1.0, 1.0, 1.0, -999.0, -999.0, 1.0, 1.0, -999.0, 1.0, 1.0, 1.0, 1.0, -999.0, -999.0, -999.0, 1.0, -999.0, 1.0, 1.0, -999.0, 1.0, -999.0, -999.0, 1.0, -999.0, 1.0, -999.0, 1.0, 1.0, 1.0, -999.0, -999.0, -999.0, -999.0, -999.0, 1.0, 1.0, -999.0, 1.0, -999.0, -999.0, -999.0, -999.0, 1.0, 1.0, 1.0, -999.0, 1.0, -999.0, 1.0, -999.0, -999.0, -999.0, -999.0, 1.0, -999.0, 1.0, 1.0, -999.0, 1.0, 1.0, 1.0, -999.0, 1.0, -999.0, 1.0, -999.0, -999.0, -999.0, -999.0, -999.0, -999.0, 1.0, 1.0, -999.0, 1.0, 1.0, 1.0, -999.0, -999.0, -999.0, -999.0, 1.0, 1.0, -999.0, -999.0, -999.0, -999.0, -999.0, -999.0, -999.0, -999.0, -999.0, 1.0, -999.0, 1.0, 1.0, -999.0, -999.0, -999.0, -999.0, -999.0, 1.0, -999.0, 1.0, 1.0, -999.0, 1.0, 1.0, -999.0, 1.0, -999.0, 1.0, 1.0, -999.0, -999.0, -999.0, -999.0, 1.0, 1.0, 1.0, -999.0, -999.0, -999.0, -999.0, -999.0, 1.0, -999.0, -999.0, 1.0, -999.0, -999.0, -999.0, -999.0, 1.0, 1.0, 1.0, 1.0, -999.0, -999.0, 1.0, 1.0, -999.0, 1.0, 1.0, -999.0, 1.0, 1.0, 1.0, 1.0, 1.0, 1.0, -999.0, -999.0, -999.0, 1.0, 1.0, 1.0, 1.0, -999.0, 1.0, -999.0, 1.0, -999.0, -999.0, -999.0, -999.0, 1.0, 1.0, 1.0, -999.0, -999.0, 1.0, 1.0, -999.0, 1.0, -999.0, -999.0, -999.0, 1.0, -999.0, -999.0, 1.0, -999.0, 1.0, 1.0, -999.0, -999.0, -999.0, -999.0, -999.0, 1.0, 1.0, -999.0, 1.0, -999.0, 1.0, 1.0, -999.0, -999.0, 1.0, -999.0, 1.0, 1.0, -999.0, -999.0, -999.0, 1.0, -999.0, -999.0, -999.0, 1.0, 1.0, 1.0, -999.0, -999.0, 1.0, -999.0, 1.0, -999.0, -999.0, -999.0, -999.0, -999.0, -999.0, -999.0, 1.0, -999.0, -999.0, -999.0, 1.0, -999.0, 1.0, 1.0, -999.0, 1.0, -999.0, 1.0, -999.0, 1.0, -999.0, 1.0, 1.0, -999.0, -999.0, -999.0, -999.0, 1.0, -999.0, 1.0, -999.0, -999.0, 1.0, 1.0, 1.0, 1.0, 1.0, -999.0, -999.0, -999.0, 1.0, 1.0, 1.0, -999.0, 1.0, -999.0, 1.0, -999.0, 1.0, -999.0, -999.0, 1.0, -999.0, -999.0, -999.0, -999.0, -999.0, -999.0, -999.0, -999.0, -999.0, -999.0, -999.0, -999.0, -999.0, -999.0, 1.0, 1.0, -999.0, -999.0, 1.0, -999.0, -999.0, -999.0, -999.0, -999.0, -999.0, -999.0, -999.0, -999.0, -999.0, -999.0, 1.0, 1.0, 1.0, -999.0, 1.0, -999.0, -999.0, 1.0, 1.0, -999.0, 1.0, 1.0, 1.0, 1.0, -999.0, 1.0, -999.0, 1.0, -999.0, 1.0, 1.0, -999.0, 1.0, -999.0, -999.0, -999.0, 1.0, -999.0, 1.0, -999.0, 1.0, 1.0, -999.0, -999.0, 1.0, -999.0, -999.0, 1.0, 1.0, 1.0, 1.0, -999.0, -999.0, -999.0, -999.0, 1.0, -999.0, 1.0, -999.0, -999.0, 1.0, 1.0, -999.0, -999.0, -999.0, -999.0, -999.0, -999.0, -999.0, 1.0, 1.0, 1.0, 1.0, 1.0, -999.0, -999.0, 1.0, -999.0, -999.0, 1.0, 1.0, -999.0, 1.0, 1.0, 1.0, 1.0, 1.0, 1.0, 1.0, 1.0, -999.0, -999.0, -999.0, -999.0, -999.0, -999.0, 1.0, -999.0, -999.0, -999.0, 1.0, 1.0, -999.0, 1.0, 1.0, -999.0, 1.0, 1.0, 1.0, -999.0, -999.0, -999.0, -999.0, -999.0, 1.0, 1.0, -999.0, -999.0, 1.0, 1.0, -999.0, -999.0, 1.0, -999.0, -999.0, -999.0, -999.0, 1.0, -999.0, 1.0, 1.0, -999.0, -999.0, -999.0, -999.0, -999.0, -999.0, -999.0, -999.0, 1.0, -999.0, -999.0, 1.0, -999.0, 1.0, 1.0, 1.0, -999.0, 1.0, 1.0, -999.0, 1.0, 1.0, -999.0, 1.0, 1.0, -999.0, -999.0, -999.0, -999.0, 1.0, -999.0, -999.0, -999.0, -999.0, -999.0, 1.0, 1.0, 1.0, -999.0, -999.0, -999.0, -999.0, -999.0, -999.0, -999.0, 1.0, -999.0, -999.0, 1.0, -999.0, -999.0, -999.0, -999.0, 1.0, -999.0, -999.0, 1.0, -999.0, -999.0, -999.0, -999.0, -999.0, -999.0, -999.0, -999.0, 1.0, 1.0, -999.0, -999.0, 1.0, -999.0, 1.0, -999.0, 1.0, -999.0, 1.0, 1.0, -999.0, -999.0, -999.0, -999.0, -999.0, -999.0, 1.0, -999.0, 1.0, 1.0, -999.0, 1.0, -999.0, 1.0, -999.0, -999.0, -999.0, 1.0, 1.0, 1.0, 1.0, -999.0, -999.0, -999.0, -999.0, 1.0, 1.0, 1.0, -999.0, 1.0, 1.0, -999.0, -999.0, -999.0, -999.0, 1.0, -999.0, -999.0, 1.0, 1.0, 1.0, 1.0, -999.0, -999.0, -999.0, 1.0, -999.0, -999.0, 1.0, 1.0, -999.0, -999.0, 1.0, 1.0, -999.0, -999.0, -999.0, -999.0, 1.0, -999.0, -999.0, -999.0, -999.0, -999.0, -999.0, -999.0, 1.0, -999.0, 1.0, 1.0, 1.0, -999.0, -999.0, -999.0, 1.0, 1.0, -999.0, -999.0, 1.0, 1.0, 1.0, 1.0, -999.0, 1.0, -999.0, 1.0, 1.0, 1.0, -999.0, 1.0, -999.0, 1.0, -999.0, 1.0, -999.0, -999.0, -999.0, -999.0, -999.0, 1.0, 1.0, 1.0, -999.0, 1.0, 1.0, 1.0, 1.0, 1.0, 1.0, 1.0, -999.0, 1.0, -999.0, -999.0, 1.0, -999.0, -999.0, 1.0, 1.0, 1.0, -999.0, 1.0, 1.0, -999.0, 1.0, -999.0, 1.0, -999.0, 1.0, 1.0, -999.0, 1.0, -999.0, 1.0, -999.0, 1.0, 1.0, 1.0, 1.0, 1.0, 1.0, -999.0, 1.0, -999.0, -999.0, 1.0, 1.0, -999.0, 1.0, -999.0, 1.0, 1.0, 1.0, -999.0, 1.0, -999.0, -999.0, 1.0, -999.0, 1.0, 1.0, 1.0, -999.0, -999.0, -999.0, 1.0, -999.0, 1.0, -999.0, 1.0, -999.0, 1.0, -999.0, 1.0, 1.0, 1.0, -999.0, 1.0, 1.0, 1.0, -999.0, 1.0, -999.0, -999.0, -999.0, 1.0, -999.0, -999.0, 1.0, 1.0, 1.0, -999.0, -999.0, 1.0, -999.0, 1.0, -999.0, -999.0, -999.0, 1.0, 1.0, -999.0, -999.0, -999.0, -999.0, 1.0, 1.0, -999.0, 1.0, -999.0, -999.0, -999.0, 1.0, 1.0, 1.0, 1.0, -999.0, 1.0, 1.0, 1.0, -999.0, 1.0, -999.0, 1.0, 1.0, -999.0, 1.0, -999.0, -999.0, 1.0, -999.0, -999.0, -999.0, 1.0, -999.0, 1.0, 1.0, -999.0, 1.0, 1.0, -999.0, 1.0, 1.0, 1.0, -999.0, 1.0, -999.0, -999.0, -999.0, -999.0, 1.0, -999.0, -999.0, 1.0, 1.0, -999.0, -999.0, -999.0, -999.0, -999.0, 1.0, 1.0, -999.0, 1.0, -999.0, 1.0, 1.0, 1.0, 1.0, 1.0, 1.0, 1.0, 1.0, -999.0, 1.0, -999.0, -999.0, -999.0, 1.0, 1.0, -999.0, 1.0, -999.0, -999.0, 1.0, 1.0, 1.0, -999.0, -999.0, -999.0, 1.0, 1.0, 1.0, 1.0, 1.0, 1.0, -999.0, -999.0, 1.0, 1.0, 1.0, 1.0, 1.0, 1.0, 1.0, 1.0, 1.0, 1.0, -999.0, 1.0, 1.0, -999.0, -999.0, 1.0, -999.0, 1.0, -999.0, 1.0, -999.0, 1.0, 1.0, 1.0, -999.0, 1.0, 1.0, -999.0, -999.0, -999.0, -999.0, 1.0, -999.0, -999.0, -999.0, -999.0, 1.0, -999.0, -999.0, -999.0, -999.0, -999.0, 1.0, 1.0, -999.0, 1.0, 1.0, 1.0, 1.0, -999.0, -999.0, -999.0, -999.0, -999.0, -999.0, -999.0, 1.0, -999.0, 1.0, 1.0, 1.0, -999.0, -999.0, -999.0, 1.0, -999.0, 1.0, -999.0, 1.0, -999.0, 1.0, -999.0, -999.0, -999.0, -999.0, -999.0, -999.0, -999.0, -999.0, 1.0, 1.0, 1.0, -999.0, 1.0, 1.0, 1.0, -999.0, -999.0, -999.0, 1.0, -999.0, -999.0, -999.0, -999.0, 1.0, -999.0, -999.0, -999.0, 1.0, 1.0, -999.0, 1.0, -999.0, 1.0, -999.0, -999.0, 1.0, 1.0, -999.0, -999.0, -999.0, -999.0, -999.0, -999.0, -999.0, 1.0, 1.0, -999.0, 1.0, 1.0, -999.0, 1.0, 1.0, -999.0, -999.0, -999.0, -999.0, -999.0, -999.0, -999.0, -999.0, -999.0, -999.0, 1.0, 1.0, 1.0, -999.0, -999.0, -999.0, -999.0, -999.0, -999.0, 1.0, -999.0, -999.0, 1.0, -999.0, 1.0, 1.0, -999.0, -999.0, 1.0, -999.0, -999.0, -999.0, -999.0, 1.0, -999.0, 1.0, -999.0, 1.0, 1.0, 1.0, -999.0, -999.0, 1.0, 1.0, -999.0, -999.0, -999.0, 1.0, -999.0, -999.0, 1.0, -999.0, -999.0, 1.0, -999.0, 1.0, -999.0, 1.0, -999.0, 1.0, 1.0, -999.0, -999.0, -999.0, 1.0, 1.0, 1.0, 1.0, -999.0, -999.0, -999.0, 1.0, -999.0, 1.0, 1.0, 1.0, 1.0, -999.0, 1.0, -999.0, 1.0, -999.0, 1.0, 1.0, -999.0, 1.0, -999.0, 1.0, -999.0, -999.0, -999.0, -999.0, 1.0, 1.0, -999.0, 1.0, 1.0, -999.0, -999.0, -999.0, 1.0, 1.0, -999.0, -999.0, 1.0, -999.0, 1.0, -999.0, 1.0, 1.0, -999.0, -999.0, 1.0, -999.0, 1.0, -999.0, -999.0, 1.0, 1.0, -999.0, -999.0, 1.0, -999.0, 1.0, 1.0, 1.0, -999.0, 1.0, -999.0, 1.0, -999.0, 1.0, 1.0, 1.0, 1.0, 1.0, -999.0, -999.0, -999.0, 1.0, 1.0, -999.0, 1.0, 1.0, -999.0, 1.0, -999.0, -999.0, 1.0, 1.0, 1.0, -999.0, 1.0, -999.0, 1.0, -999.0, 1.0, 1.0, -999.0, -999.0, -999.0, 1.0, 1.0, -999.0, -999.0, 1.0, -999.0, -999.0, -999.0, -999.0, 1.0, 1.0, 1.0, 1.0, 1.0, 1.0, -999.0, 1.0, -999.0, 1.0, 1.0, -999.0, 1.0, -999.0, 1.0, 1.0, 1.0, 1.0, 1.0, 1.0, -999.0, 1.0, -999.0, 1.0, -999.0, 1.0, 1.0, 1.0, -999.0, -999.0, -999.0, 1.0, 1.0, 1.0, -999.0, 1.0, 1.0, 1.0, 1.0, -999.0, -999.0, -999.0, -999.0, 1.0, -999.0, 1.0, 1.0, 1.0, -999.0, 1.0, -999.0, -999.0, -999.0, 1.0, 1.0, 1.0, -999.0, -999.0, 1.0, -999.0, -999.0, 1.0, 1.0, -999.0, -999.0, -999.0, -999.0, -999.0, 1.0, 1.0, 1.0, -999.0, -999.0, 1.0, -999.0, -999.0, -999.0, 1.0, -999.0, -999.0, -999.0, 1.0, -999.0, -999.0, -999.0, 1.0, -999.0, 1.0, 1.0, -999.0, -999.0, 1.0, 1.0, 1.0, 1.0, 1.0, -999.0, -999.0, 1.0, -999.0, 1.0, -999.0, 1.0, 1.0, -999.0, -999.0, -999.0, -999.0, -999.0, -999.0, -999.0, 1.0, 1.0, -999.0, -999.0, -999.0, 1.0, -999.0, -999.0, 1.0, 1.0, -999.0, 1.0, 1.0, -999.0, 1.0, 1.0, -999.0, -999.0, 1.0, 1.0, 1.0, 1.0, 1.0, 1.0, -999.0, 1.0, -999.0, 1.0, -999.0, 1.0, 1.0, -999.0, 1.0, 1.0, -999.0, -999.0, -999.0, -999.0, 1.0, -999.0, -999.0, -999.0, -999.0, -999.0, -999.0, -999.0, 1.0, 1.0, -999.0, -999.0, -999.0, -999.0, 1.0, 1.0, -999.0, 1.0, -999.0, 1.0, -999.0, -999.0, -999.0, 1.0, -999.0, -999.0, -999.0, 1.0, -999.0, 1.0, -999.0, 1.0, 1.0, -999.0, 1.0, -999.0, 1.0, -999.0, -999.0, -999.0, 1.0, -999.0, -999.0, 1.0, 1.0, 1.0, -999.0, 1.0, -999.0, -999.0, -999.0, -999.0, 1.0, 1.0, 1.0, 1.0, -999.0, -999.0, 1.0, -999.0, -999.0, -999.0, -999.0, 1.0, -999.0, -999.0, -999.0, 1.0, 1.0, 1.0, 1.0, 1.0, 1.0, 1.0, -999.0, 1.0, 1.0, -999.0, -999.0, 1.0, 1.0, 1.0, -999.0, 1.0, 1.0, -999.0, -999.0, -999.0, 1.0, 1.0, 1.0, -999.0, 1.0, 1.0, 1.0, -999.0, 1.0, -999.0, 1.0, 1.0, -999.0, 1.0, 1.0, 1.0, 1.0, 1.0, 1.0, -999.0, -999.0, -999.0, -999.0, -999.0, 1.0, -999.0, 1.0, -999.0, 1.0, -999.0, -999.0, -999.0, 1.0, -999.0, 1.0, -999.0, -999.0, 1.0, 1.0, 1.0, -999.0, -999.0, -999.0, -999.0, -999.0, -999.0, -999.0, 1.0, -999.0, -999.0, 1.0, -999.0, -999.0, 1.0, 1.0, -999.0, 1.0, -999.0, 1.0, 1.0, -999.0, 1.0, 1.0, -999.0, -999.0, -999.0, 1.0, -999.0, 1.0, -999.0, 1.0, -999.0, -999.0, -999.0, -999.0, 1.0, -999.0, 1.0, -999.0, -999.0, 1.0, 1.0, -999.0, 1.0, -999.0, -999.0, -999.0, -999.0, 1.0, 1.0, -999.0, -999.0, 1.0, 1.0, 1.0, 1.0, 1.0, -999.0, 1.0, 1.0, 1.0, -999.0, 1.0, 1.0, 1.0, -999.0, 1.0, 1.0, -999.0, -999.0, -999.0, -999.0, -999.0, 1.0, 1.0, -999.0, 1.0, 1.0, 1.0, -999.0, -999.0, 1.0, 1.0, -999.0, 1.0, 1.0, 1.0, 1.0, 1.0, 1.0, 1.0, -999.0, 1.0, -999.0, -999.0, -999.0, -999.0, -999.0, -999.0, 1.0, -999.0, 1.0, -999.0, -999.0, 1.0, -999.0, -999.0, -999.0, 1.0, -999.0, -999.0, 1.0, -999.0, 1.0, 1.0, -999.0, 1.0, -999.0, 1.0, -999.0, -999.0, 1.0, -999.0, -999.0, -999.0, -999.0, 1.0, 1.0, -999.0, 1.0, 1.0, -999.0, 1.0, -999.0, -999.0, 1.0, -999.0, 1.0, 1.0, 1.0, -999.0, -999.0, -999.0, -999.0, -999.0, 1.0, -999.0, -999.0, 1.0, 1.0, -999.0, 1.0, -999.0, -999.0, 1.0, 1.0, -999.0, -999.0, 1.0, -999.0, 1.0, 1.0, -999.0, -999.0, -999.0, -999.0, -999.0, -999.0, 1.0, -999.0, 1.0, 1.0, 1.0, 1.0, -999.0, 1.0, -999.0, 1.0, 1.0, 1.0, 1.0, -999.0, 1.0, 1.0, 1.0, -999.0, -999.0, 1.0, -999.0, 1.0, -999.0, -999.0, -999.0, 1.0, -999.0, -999.0, -999.0, -999.0, 1.0, -999.0, 1.0, -999.0, 1.0, -999.0, 1.0, -999.0, 1.0, -999.0, 1.0, -999.0, 1.0, 1.0, 1.0, 1.0, 1.0, -999.0, -999.0, 1.0, 1.0, 1.0, -999.0, 1.0, 1.0, 1.0, -999.0, 1.0, 1.0, -999.0, -999.0, -999.0, 1.0, 1.0, -999.0, 1.0, -999.0, 1.0, -999.0, 1.0, -999.0, 1.0, -999.0, -999.0, -999.0, 1.0, -999.0, -999.0, -999.0, 1.0, 1.0, -999.0, 1.0, -999.0, -999.0, 1.0, -999.0, -999.0, 1.0, 1.0, -999.0, 1.0, -999.0, -999.0, 1.0, 1.0, 1.0, -999.0, 1.0, -999.0, -999.0, -999.0, -999.0, 1.0, 1.0, 1.0, -999.0, -999.0, 1.0, 1.0, 1.0, -999.0, -999.0, -999.0, 1.0, 1.0, -999.0, 1.0, 1.0, -999.0, -999.0, 1.0, 1.0, -999.0, 1.0, 1.0, -999.0, -999.0, 1.0, 1.0, 1.0, -999.0, -999.0, 1.0, 1.0, -999.0, 1.0, 1.0, 1.0, -999.0, 1.0, 1.0, 1.0, 1.0, -999.0, 1.0, -999.0, -999.0, 1.0, 1.0, -999.0, -999.0, 1.0, 1.0, -999.0, 1.0, -999.0, 1.0, -999.0, -999.0, -999.0, 1.0, 1.0, 1.0, 1.0, -999.0, -999.0, -999.0, 1.0, -999.0, 1.0, -999.0, -999.0, 1.0, -999.0, -999.0, 1.0, -999.0, 1.0, -999.0, 1.0, 1.0, -999.0, -999.0, 1.0, -999.0, 1.0, -999.0, 1.0, -999.0, -999.0, -999.0, -999.0, 1.0, 1.0, -999.0, 1.0, -999.0, -999.0, -999.0, -999.0, -999.0, 1.0, -999.0, 1.0, -999.0, -999.0, -999.0, -999.0, -999.0, -999.0, 1.0, -999.0, -999.0, 1.0, 1.0, -999.0, 1.0, 1.0, -999.0, 1.0, 1.0, -999.0, -999.0, 1.0, 1.0, -999.0, -999.0, -999.0, 1.0, 1.0, -999.0, 1.0, -999.0, -999.0, -999.0, 1.0, 1.0, -999.0, -999.0, -999.0, -999.0, -999.0, 1.0, -999.0, -999.0, -999.0, -999.0, -999.0, -999.0, -999.0, -999.0, 1.0, -999.0, -999.0, 1.0, -999.0, -999.0, 1.0, 1.0, 1.0, -999.0, 1.0, -999.0, 1.0, 1.0, -999.0, -999.0, -999.0, -999.0, 1.0, -999.0, 1.0, 1.0, -999.0, -999.0, -999.0, -999.0, -999.0, 1.0, 1.0, 1.0, 1.0, 1.0, -999.0, 1.0, -999.0, -999.0, 1.0, -999.0, -999.0, 1.0, 1.0, -999.0, -999.0, 1.0, 1.0, 1.0, 1.0, -999.0, -999.0, -999.0, 1.0, -999.0, -999.0, 1.0, 1.0, -999.0, -999.0, 1.0, 1.0, 1.0, -999.0, -999.0, -999.0, 1.0, -999.0, 1.0, 1.0, 1.0, -999.0, 1.0, 1.0, -999.0, 1.0, 1.0, 1.0, -999.0, 1.0, -999.0, 1.0, -999.0, 1.0, 1.0, -999.0, 1.0, -999.0, -999.0, 1.0, -999.0, -999.0, -999.0, 1.0, -999.0, -999.0, -999.0, 1.0, -999.0, 1.0, -999.0, 1.0, -999.0, -999.0, 1.0, 1.0, -999.0, -999.0, -999.0, 1.0, -999.0, 1.0, 1.0, -999.0, -999.0, -999.0, 1.0, 1.0, 1.0, -999.0, 1.0, 1.0, 1.0, 1.0, -999.0, 1.0, -999.0, -999.0, -999.0, 1.0, -999.0, 1.0, 1.0, -999.0, -999.0, -999.0, -999.0, 1.0, -999.0, 1.0, 1.0, -999.0, -999.0, -999.0, 1.0, 1.0, -999.0, 1.0, 1.0, -999.0, 1.0, -999.0, -999.0, -999.0, -999.0, -999.0, -999.0, -999.0, -999.0, -999.0, -999.0, 1.0, 1.0, 1.0, -999.0, 1.0, 1.0, 1.0, -999.0, 1.0, 1.0, -999.0, 1.0, -999.0, -999.0, 1.0, -999.0, -999.0, -999.0, -999.0, -999.0, -999.0, 1.0, -999.0, -999.0, -999.0, -999.0, 1.0, 1.0, 1.0, -999.0, -999.0, 1.0, -999.0, 1.0, 1.0, 1.0, -999.0, -999.0, 1.0, -999.0, -999.0, -999.0, -999.0, 1.0, 1.0, 1.0, 1.0, 1.0, -999.0, -999.0, 1.0, -999.0, -999.0, -999.0, -999.0, -999.0, -999.0, -999.0, 1.0, -999.0, 1.0, -999.0, 1.0, -999.0, 1.0, 1.0, -999.0, -999.0, -999.0, 1.0, 1.0, -999.0, -999.0, -999.0, 1.0, 1.0, -999.0, 1.0, -999.0, 1.0, 1.0, 1.0, 1.0, 1.0, 1.0, -999.0, 1.0, -999.0, 1.0, 1.0, -999.0, -999.0, 1.0, -999.0, 1.0, 1.0, -999.0, 1.0, 1.0, 1.0, -999.0, 1.0, -999.0, -999.0, -999.0, 1.0, 1.0, 1.0, 1.0, 1.0, 1.0, 1.0, -999.0, 1.0, 1.0, 1.0, 1.0, -999.0, 1.0, -999.0, -999.0, 1.0, 1.0, -999.0, 1.0, 1.0, 1.0, 1.0, -999.0, 1.0, -999.0, -999.0, -999.0, 1.0, -999.0, 1.0, 1.0, -999.0, -999.0, -999.0, 1.0, 1.0, 1.0, 1.0, -999.0, -999.0, -999.0, 1.0, 1.0, 1.0, -999.0, -999.0, 1.0, -999.0, 1.0, -999.0, -999.0, 1.0, 1.0, -999.0, 1.0, -999.0, 1.0, 1.0, -999.0, 1.0, -999.0, 1.0, 1.0, -999.0, -999.0, -999.0, -999.0, 1.0, -999.0, -999.0, 1.0, 1.0, 1.0, -999.0, -999.0, -999.0, -999.0, -999.0, 1.0, -999.0, 1.0, -999.0, -999.0, -999.0, -999.0, 1.0, -999.0, -999.0, 1.0, 1.0, -999.0, -999.0, 1.0, -999.0, 1.0, -999.0, -999.0, -999.0, 1.0, -999.0, -999.0, -999.0, 1.0, -999.0, -999.0, -999.0, 1.0, -999.0, 1.0, -999.0, -999.0, -999.0, -999.0, -999.0, -999.0, -999.0, 1.0, -999.0, -999.0, 1.0, -999.0, 1.0, -999.0, -999.0, 1.0, 1.0, 1.0, -999.0, 1.0, -999.0, 1.0, 1.0, 1.0, 1.0, 1.0, -999.0, -999.0, -999.0, -999.0, -999.0, 1.0, 1.0, -999.0, -999.0, 1.0, 1.0, 1.0, -999.0, -999.0, 1.0, -999.0, -999.0, -999.0, -999.0, 1.0, 1.0, 1.0, -999.0, 1.0, -999.0, -999.0, 1.0, 1.0, -999.0, 1.0, -999.0, -999.0, 1.0, -999.0, 1.0, 1.0, 1.0, 1.0, 1.0, -999.0, 1.0, -999.0, 1.0, -999.0, 1.0, 1.0, 1.0, -999.0, -999.0, -999.0, -999.0, 1.0, 1.0, 1.0, -999.0, 1.0, 1.0, 1.0, -999.0, -999.0, -999.0, -999.0, 1.0, -999.0, 1.0, 1.0, 1.0, -999.0, 1.0, 1.0, -999.0, 1.0, 1.0, -999.0, 1.0, -999.0, -999.0, 1.0, -999.0, -999.0, -999.0, -999.0, -999.0, 1.0, 1.0, -999.0, 1.0, -999.0, -999.0, 1.0, 1.0, 1.0, 1.0, -999.0, -999.0, -999.0, -999.0, -999.0, -999.0, -999.0, 1.0, 1.0, 1.0, -999.0, 1.0, 1.0, 1.0, 1.0, 1.0, -999.0, 1.0, -999.0, 1.0, 1.0, 1.0, -999.0, -999.0, 1.0, 1.0, 1.0, 1.0, -999.0, -999.0, 1.0, -999.0, -999.0, -999.0, 1.0, -999.0, -999.0, 1.0, 1.0, -999.0, -999.0, -999.0, 1.0, 1.0, 1.0, 1.0, 1.0, 1.0, -999.0, -999.0, -999.0, -999.0, 1.0, 1.0, -999.0, 1.0, 1.0, -999.0, -999.0, 1.0, -999.0, 1.0, -999.0, 1.0, -999.0, -999.0, 1.0, 1.0, 1.0, 1.0, -999.0, -999.0, -999.0, -999.0, -999.0, 1.0, 1.0, 1.0, 1.0, 1.0, 1.0, -999.0, -999.0, -999.0, -999.0, 1.0, 1.0, -999.0, 1.0, -999.0, 1.0, 1.0, -999.0, 1.0, -999.0, -999.0, -999.0, -999.0, 1.0, 1.0, 1.0, -999.0, 1.0, -999.0, 1.0, -999.0, -999.0, 1.0, -999.0, -999.0, -999.0, -999.0, -999.0, 1.0, 1.0, -999.0, 1.0, -999.0, 1.0, -999.0, -999.0, -999.0, -999.0, -999.0, -999.0, -999.0, 1.0, 1.0, -999.0, 1.0, -999.0, 1.0, -999.0, -999.0, 1.0, -999.0, -999.0, 1.0, -999.0, -999.0, -999.0, 1.0, 1.0, 1.0, 1.0, -999.0, 1.0, 1.0, -999.0, 1.0, 1.0, 1.0, -999.0, -999.0, -999.0, -999.0, 1.0, -999.0, 1.0, -999.0, 1.0, 1.0, -999.0, -999.0, 1.0, -999.0, -999.0, -999.0, -999.0, 1.0, -999.0, -999.0, -999.0, -999.0, -999.0, 1.0, 1.0, -999.0, 1.0, -999.0, -999.0, 1.0, 1.0, -999.0, 1.0, -999.0, 1.0, -999.0, 1.0, 1.0, 1.0, -999.0, -999.0, -999.0, -999.0, -999.0, 1.0, -999.0, -999.0, -999.0, 1.0, -999.0, -999.0, -999.0, -999.0, -999.0, -999.0, 1.0, -999.0, -999.0, 1.0, -999.0, 1.0, 1.0, 1.0, -999.0, 1.0, -999.0, -999.0, -999.0, -999.0, 1.0, -999.0, 1.0, 1.0, -999.0, -999.0, 1.0, 1.0, 1.0, 1.0, 1.0, 1.0, -999.0, 1.0, -999.0, 1.0, -999.0, -999.0, -999.0, -999.0, 1.0, 1.0, -999.0, 1.0, -999.0, 1.0, -999.0, 1.0, -999.0, 1.0, -999.0, -999.0, 1.0, 1.0, 1.0, 1.0, -999.0, -999.0, 1.0, -999.0, -999.0, 1.0, -999.0, 1.0, 1.0, 1.0, 1.0, -999.0, 1.0, -999.0, -999.0, 1.0, 1.0, 1.0, 1.0, -999.0, -999.0, -999.0, -999.0, -999.0, -999.0, -999.0, 1.0, 1.0, -999.0, 1.0, 1.0, -999.0, -999.0, 1.0, -999.0, -999.0, -999.0, -999.0, -999.0, 1.0, -999.0, 1.0, -999.0, -999.0, -999.0, 1.0, 1.0, 1.0, -999.0, -999.0, -999.0, -999.0, -999.0, 1.0, -999.0, -999.0, 1.0, -999.0, -999.0, 1.0, -999.0, -999.0, -999.0, 1.0, 1.0, -999.0, 1.0, 1.0, -999.0, -999.0, 1.0, -999.0, -999.0, 1.0, -999.0, 1.0, -999.0, 1.0, -999.0, 1.0, -999.0, -999.0, 1.0, -999.0, -999.0, 1.0, 1.0, 1.0, 1.0, 1.0, 1.0, -999.0, 1.0, -999.0, -999.0, -999.0, 1.0, -999.0, -999.0, -999.0, -999.0, 1.0, 1.0, 1.0, 1.0, -999.0, 1.0, 1.0, 1.0, 1.0, 1.0, -999.0, 1.0, -999.0, -999.0, -999.0, -999.0, -999.0, 1.0, -999.0, 1.0, -999.0, -999.0, 1.0, -999.0, -999.0, 1.0, -999.0, 1.0, -999.0, 1.0, -999.0, -999.0, -999.0, 1.0, 1.0, -999.0, -999.0, 1.0, 1.0, 1.0, -999.0, 1.0, 1.0, 1.0, 1.0, -999.0, 1.0, 1.0, -999.0, 1.0, -999.0, -999.0, 1.0, 1.0, 1.0, 1.0, -999.0, -999.0, 1.0, 1.0, -999.0, -999.0, -999.0, 1.0, -999.0, -999.0, 1.0, 1.0, -999.0, 1.0, -999.0, -999.0, -999.0, -999.0, 1.0, 1.0, 1.0, 1.0, -999.0, -999.0, 1.0, -999.0, -999.0, -999.0, 1.0, -999.0, 1.0, 1.0, 1.0, 1.0, 1.0, -999.0, 1.0, 1.0, 1.0, 1.0, -999.0, -999.0, -999.0, 1.0, -999.0, 1.0, 1.0, -999.0, 1.0, -999.0, 1.0, 1.0, 1.0, 1.0, -999.0, -999.0, 1.0, -999.0, -999.0, 1.0, 1.0, 1.0, -999.0, 1.0, -999.0, -999.0, -999.0, -999.0, 1.0, -999.0, 1.0, -999.0, 1.0, 1.0, 1.0, 1.0, 1.0, 1.0, 1.0, 1.0, -999.0, -999.0, 1.0, -999.0, -999.0, 1.0, -999.0, -999.0, -999.0, -999.0, -999.0, -999.0, -999.0, -999.0, 1.0, 1.0, 1.0, -999.0, -999.0, -999.0, 1.0, -999.0, -999.0, 1.0, 1.0, -999.0, 1.0, 1.0, -999.0, -999.0, -999.0, -999.0, 1.0, -999.0, 1.0, -999.0, 1.0, -999.0, -999.0, 1.0, 1.0, -999.0, -999.0, -999.0, 1.0, -999.0, -999.0, 1.0, -999.0, 1.0, -999.0, -999.0, 1.0, 1.0, 1.0, -999.0, 1.0, 1.0, -999.0, 1.0, -999.0, 1.0, -999.0, -999.0, -999.0, 1.0, 1.0, 1.0, -999.0, 1.0, -999.0, -999.0, 1.0, 1.0, -999.0, -999.0, 1.0, -999.0, 1.0, -999.0, -999.0, -999.0, 1.0, 1.0, 1.0, -999.0, 1.0, -999.0, -999.0, -999.0, 1.0, -999.0, -999.0, 1.0, -999.0, -999.0, 1.0, -999.0, -999.0, 1.0, 1.0, -999.0, -999.0, 1.0, -999.0, -999.0, 1.0, -999.0, -999.0, -999.0, 1.0, -999.0, 1.0, 1.0, -999.0, 1.0, -999.0, 1.0, -999.0, -999.0, 1.0, -999.0, -999.0, -999.0, -999.0, 1.0, 1.0, -999.0, 1.0, -999.0, -999.0, 1.0, -999.0, 1.0, 1.0, -999.0, -999.0, 1.0, 1.0, 1.0, -999.0, -999.0, -999.0, -999.0, -999.0, 1.0, -999.0, -999.0, -999.0, 1.0, -999.0, 1.0, -999.0, 1.0, -999.0, 1.0, -999.0, 1.0, 1.0, -999.0, 1.0, 1.0, 1.0, -999.0, -999.0, -999.0, 1.0, -999.0, 1.0, -999.0, -999.0, -999.0, 1.0, -999.0, -999.0, 1.0, 1.0, -999.0, 1.0, 1.0, -999.0, 1.0, 1.0, -999.0, -999.0, 1.0, 1.0, -999.0, 1.0, -999.0, -999.0, -999.0, -999.0, 1.0, 1.0, -999.0, -999.0, -999.0, -999.0, 1.0, -999.0, -999.0, -999.0, -999.0, 1.0, -999.0, -999.0, 1.0, 1.0, 1.0, 1.0, 1.0, -999.0, 1.0, 1.0, -999.0, 1.0, 1.0, 1.0, 1.0, -999.0, 1.0, 1.0, 1.0, -999.0, 1.0, 1.0, 1.0, -999.0, -999.0, -999.0, 1.0, -999.0, -999.0, -999.0, -999.0, -999.0, 1.0, 1.0, -999.0, -999.0, 1.0, -999.0, -999.0, -999.0, 1.0, 1.0, -999.0, -999.0, -999.0, -999.0, 1.0, 1.0, -999.0, 1.0, 1.0, 1.0, -999.0, 1.0, -999.0, -999.0, -999.0, 1.0, 1.0, 1.0, -999.0, 1.0, -999.0, -999.0, 1.0, -999.0, -999.0, 1.0, -999.0, -999.0, 1.0, 1.0, 1.0, -999.0, -999.0, -999.0, -999.0, -999.0, -999.0, -999.0, 1.0, 1.0, 1.0, -999.0, -999.0, -999.0, -999.0, -999.0, 1.0, -999.0, -999.0, 1.0, -999.0, 1.0, -999.0, -999.0, -999.0, -999.0, -999.0, -999.0, -999.0, -999.0, -999.0, -999.0, 1.0, -999.0, -999.0, 1.0, 1.0, 1.0, 1.0, -999.0, -999.0, -999.0, 1.0, -999.0, 1.0, 1.0, -999.0, -999.0, -999.0, 1.0, -999.0, -999.0, -999.0, -999.0, 1.0, -999.0, 1.0, 1.0, 1.0, 1.0, 1.0, -999.0, 1.0, -999.0, 1.0, 1.0, -999.0, -999.0, 1.0, -999.0, -999.0, -999.0, -999.0, 1.0, -999.0, 1.0, -999.0, 1.0, -999.0, -999.0, 1.0, 1.0, -999.0, 1.0, -999.0, 1.0, -999.0, 1.0, -999.0, -999.0, 1.0, 1.0, -999.0, -999.0, -999.0, -999.0, -999.0, 1.0, 1.0, -999.0, 1.0, -999.0, -999.0, -999.0, -999.0, 1.0, 1.0, -999.0, 1.0, -999.0, 1.0, -999.0, -999.0, 1.0, 1.0, 1.0, -999.0, -999.0, -999.0, -999.0, -999.0, 1.0, -999.0, 1.0, 1.0, 1.0, -999.0, -999.0, -999.0, -999.0, 1.0, -999.0, -999.0, -999.0, -999.0, -999.0, -999.0, 1.0, -999.0, 1.0, -999.0, -999.0, -999.0, 1.0, 1.0, -999.0, 1.0, -999.0, -999.0, -999.0, 1.0, -999.0, 1.0, 1.0, -999.0, -999.0, 1.0, -999.0, 1.0, -999.0, -999.0, -999.0, -999.0, 1.0, -999.0, 1.0, -999.0, -999.0, -999.0, -999.0, 1.0, -999.0, -999.0, -999.0, -999.0, 1.0, 1.0, 1.0, 1.0, 1.0, 1.0, -999.0, -999.0, 1.0, -999.0, 1.0, 1.0, 1.0, -999.0, 1.0, -999.0, 1.0, -999.0, 1.0, 1.0, 1.0, -999.0, -999.0, 1.0, -999.0, 1.0, -999.0, -999.0, 1.0, -999.0, 1.0, -999.0, -999.0, -999.0, 1.0, -999.0, 1.0, -999.0, -999.0, 1.0, -999.0, 1.0, 1.0, -999.0, -999.0, 1.0, 1.0, 1.0, 1.0, 1.0, 1.0, -999.0, -999.0, -999.0, 1.0, 1.0, -999.0, 1.0, -999.0, -999.0, -999.0, -999.0, -999.0, 1.0, 1.0, -999.0, -999.0, -999.0, -999.0, -999.0, -999.0, -999.0, 1.0, -999.0, -999.0, -999.0, 1.0, -999.0, -999.0, -999.0, -999.0, 1.0, -999.0, 1.0, 1.0, 1.0, 1.0, 1.0, -999.0, -999.0, -999.0, 1.0, 1.0, -999.0, 1.0, 1.0, -999.0, 1.0, 1.0, -999.0, -999.0, -999.0, -999.0, -999.0, -999.0, -999.0, 1.0, -999.0, -999.0, -999.0, 1.0, 1.0, -999.0, 1.0, 1.0, -999.0, -999.0, 1.0, -999.0, 1.0, -999.0, 1.0, 1.0, 1.0, -999.0, 1.0, 1.0, -999.0, -999.0, 1.0, -999.0, -999.0, 1.0, -999.0, 1.0, -999.0, -999.0, -999.0, 1.0, 1.0, -999.0, 1.0, -999.0, -999.0, -999.0, 1.0, -999.0, 1.0, -999.0, 1.0, -999.0, 1.0, -999.0, 1.0, 1.0, -999.0, 1.0, -999.0, 1.0, 1.0, 1.0, -999.0, 1.0, 1.0, 1.0, 1.0, 1.0, 1.0, -999.0, -999.0, 1.0, -999.0, 1.0, -999.0, -999.0, 1.0, 1.0, 1.0, -999.0, -999.0, -999.0, -999.0, -999.0, 1.0, -999.0, -999.0, -999.0, 1.0, -999.0, 1.0, -999.0, -999.0, 1.0, 1.0, 1.0, -999.0, 1.0, -999.0, -999.0, 1.0, -999.0, 1.0, 1.0, -999.0, 1.0, -999.0, -999.0, -999.0, -999.0, -999.0, 1.0, 1.0, 1.0, 1.0, -999.0, -999.0, 1.0, -999.0, -999.0, 1.0, -999.0, -999.0, -999.0, -999.0, 1.0, -999.0, 1.0, 1.0, 1.0, 1.0, 1.0, 1.0, -999.0, 1.0, 1.0, -999.0, 1.0, -999.0, 1.0, -999.0, 1.0, -999.0, 1.0, -999.0, 1.0, -999.0, -999.0, -999.0, -999.0, -999.0, 1.0, -999.0, 1.0, 1.0, 1.0, 1.0, -999.0, -999.0, -999.0, -999.0, 1.0, 1.0, -999.0, -999.0, -999.0, -999.0, -999.0, -999.0, -999.0, 1.0, 1.0, -999.0, -999.0, -999.0, 1.0, 1.0, 1.0, -999.0, -999.0, -999.0, 1.0, -999.0, -999.0, 1.0, -999.0, 1.0, -999.0, -999.0, 1.0, 1.0, 1.0, 1.0, -999.0, -999.0, -999.0, 1.0, -999.0, 1.0, -999.0, -999.0, -999.0, 1.0, -999.0, 1.0, 1.0, -999.0, 1.0, 1.0, -999.0, 1.0, -999.0, -999.0, -999.0, 1.0, 1.0, -999.0, 1.0, 1.0, -999.0, -999.0, 1.0, -999.0, 1.0, -999.0, -999.0, 1.0, -999.0, 1.0, -999.0, -999.0, 1.0, -999.0, 1.0, -999.0, -999.0, -999.0, 1.0, -999.0, 1.0, -999.0, 1.0, -999.0, -999.0, -999.0, -999.0, -999.0, -999.0, 1.0, -999.0, 1.0, -999.0, -999.0, 1.0, -999.0, -999.0, -999.0, 1.0, -999.0, -999.0, -999.0, -999.0, -999.0, -999.0, 1.0, 1.0, 1.0, -999.0, 1.0, -999.0, 1.0, 1.0, -999.0, 1.0, 1.0, 1.0, -999.0, 1.0, 1.0, -999.0, -999.0, -999.0, 1.0, -999.0, 1.0, -999.0, -999.0, -999.0, 1.0, 1.0, -999.0, -999.0, -999.0, -999.0, -999.0, 1.0, 1.0, -999.0, -999.0, 1.0, -999.0, 1.0, -999.0, 1.0, -999.0, 1.0, 1.0, -999.0, -999.0, -999.0, -999.0, 1.0, 1.0, 1.0, 1.0, -999.0, -999.0, 1.0, 1.0, -999.0, -999.0, 1.0, -999.0, 1.0, 1.0, -999.0, -999.0, 1.0, -999.0, 1.0, -999.0, -999.0, -999.0, -999.0, 1.0, 1.0, 1.0, -999.0, -999.0, -999.0, 1.0, -999.0, 1.0, -999.0, -999.0, 1.0, -999.0, -999.0, -999.0, -999.0, -999.0, 1.0, -999.0, -999.0, 1.0, -999.0, 1.0, -999.0, -999.0, 1.0, 1.0, 1.0, -999.0, -999.0, -999.0, 1.0, 1.0, -999.0, -999.0, 1.0, -999.0, 1.0, -999.0, 1.0, -999.0, 1.0, -999.0, 1.0, 1.0, 1.0, 1.0, 1.0, 1.0, 1.0, -999.0, 1.0, -999.0, -999.0, 1.0, -999.0, -999.0, 1.0, -999.0, 1.0, -999.0, -999.0, 1.0, -999.0, -999.0, 1.0, -999.0, -999.0, -999.0, 1.0, -999.0, 1.0, 1.0, -999.0, 1.0, 1.0, -999.0, -999.0, -999.0, 1.0, 1.0, -999.0, -999.0, -999.0, 1.0, -999.0, -999.0, -999.0, 1.0, 1.0, -999.0, -999.0, -999.0, -999.0, -999.0, 1.0, -999.0, -999.0, 1.0, 1.0, 1.0, -999.0, -999.0, 1.0, -999.0, 1.0, 1.0, 1.0, 1.0, -999.0, -999.0, -999.0, 1.0, 1.0, 1.0, -999.0, -999.0, 1.0, -999.0, -999.0, 1.0, 1.0, -999.0, -999.0, -999.0, -999.0, -999.0, -999.0, -999.0, -999.0, -999.0, 1.0, 1.0, -999.0, 1.0, -999.0, -999.0, -999.0, 1.0, -999.0, -999.0, 1.0, 1.0, -999.0, -999.0, 1.0, -999.0, -999.0, 1.0, 1.0, -999.0, 1.0, -999.0, 1.0, -999.0, -999.0, -999.0, 1.0, 1.0, 1.0, -999.0, 1.0, -999.0, -999.0, 1.0, 1.0, 1.0, 1.0, 1.0, -999.0, 1.0, -999.0, -999.0, -999.0, 1.0, 1.0, -999.0, -999.0, -999.0, -999.0, 1.0, -999.0, -999.0, 1.0, -999.0, 1.0, 1.0, 1.0, 1.0, -999.0, -999.0, 1.0, 1.0, 1.0, 1.0, -999.0, -999.0, -999.0, -999.0, -999.0, 1.0, 1.0, -999.0, 1.0, -999.0, 1.0, 1.0, -999.0, -999.0, -999.0, 1.0, -999.0, 1.0, 1.0, 1.0, -999.0, 1.0, 1.0, -999.0, -999.0, 1.0, 1.0, 1.0, 1.0, -999.0, -999.0, -999.0, -999.0, 1.0, -999.0, -999.0, 1.0, 1.0, 1.0, 1.0, 1.0, -999.0, -999.0, 1.0, 1.0, 1.0, -999.0, -999.0, 1.0, 1.0, -999.0, -999.0, -999.0, 1.0, 1.0, 1.0, 1.0, 1.0, -999.0, -999.0, -999.0, 1.0, -999.0, -999.0, -999.0, -999.0, 1.0, -999.0, -999.0, 1.0, 1.0, -999.0, 1.0, -999.0, -999.0, 1.0, 1.0, -999.0, 1.0, 1.0, -999.0, -999.0, -999.0, -999.0, -999.0, 1.0, -999.0, 1.0, 1.0, -999.0, -999.0, -999.0, -999.0, 1.0, 1.0, 1.0, -999.0, 1.0, -999.0, -999.0, 1.0, 1.0, -999.0, -999.0, 1.0, 1.0, 1.0, -999.0, -999.0, 1.0, 1.0, 1.0, 1.0, 1.0, -999.0, -999.0, -999.0, 1.0, 1.0, -999.0, 1.0, -999.0, 1.0, 1.0, -999.0, 1.0, -999.0, 1.0, 1.0, -999.0, -999.0, 1.0, -999.0, 1.0, 1.0, 1.0, 1.0, 1.0, 1.0, -999.0, -999.0, -999.0, -999.0, 1.0, 1.0, 1.0, -999.0, 1.0, -999.0, 1.0, -999.0, -999.0, -999.0, 1.0, 1.0, -999.0, 1.0, -999.0, -999.0, -999.0, 1.0, -999.0, 1.0, -999.0, -999.0, 1.0, -999.0, 1.0, -999.0, -999.0, -999.0, 1.0, -999.0, -999.0, 1.0, -999.0, -999.0, -999.0, -999.0, -999.0, -999.0, 1.0, 1.0, 1.0, -999.0, -999.0, -999.0, 1.0, -999.0, -999.0, 1.0, 1.0, -999.0, -999.0, -999.0, 1.0, -999.0, -999.0, 1.0, 1.0, -999.0, -999.0, 1.0, 1.0, 1.0, 1.0, -999.0, 1.0, -999.0, -999.0, 1.0, -999.0, 1.0, -999.0, -999.0, -999.0, 1.0, -999.0, -999.0, -999.0, -999.0, 1.0, 1.0, 1.0, -999.0, 1.0, 1.0, 1.0, -999.0, -999.0, 1.0, 1.0, 1.0, -999.0, 1.0, -999.0, -999.0, 1.0, -999.0, -999.0, -999.0, 1.0, -999.0, 1.0, 1.0, -999.0, 1.0, -999.0, -999.0, -999.0, 1.0, 1.0, 1.0, -999.0, 1.0, -999.0, -999.0, 1.0, 1.0, -999.0, 1.0, -999.0, -999.0, -999.0, 1.0, 1.0, 1.0, -999.0, -999.0, -999.0, -999.0, 1.0, 1.0, 1.0, 1.0, 1.0, -999.0, -999.0, -999.0, 1.0, 1.0, -999.0, -999.0, -999.0, 1.0, 1.0, 1.0, -999.0, 1.0, 1.0, 1.0, 1.0, 1.0, 1.0, 1.0, -999.0, 1.0, 1.0, -999.0, -999.0, -999.0, -999.0, -999.0, 1.0, 1.0, -999.0, 1.0, -999.0, 1.0, 1.0, -999.0, 1.0, -999.0, -999.0, -999.0, -999.0, -999.0, -999.0, -999.0, 1.0, -999.0, -999.0, -999.0, 1.0, -999.0, 1.0, -999.0, 1.0, -999.0, -999.0, 1.0, 1.0, 1.0, 1.0, -999.0, 1.0, -999.0, -999.0, 1.0, -999.0, 1.0, -999.0, 1.0, 1.0, 1.0, -999.0, -999.0, 1.0, 1.0, 1.0, -999.0, -999.0, 1.0, 1.0, 1.0, -999.0, -999.0, 1.0, 1.0, 1.0, -999.0, 1.0, -999.0, -999.0, -999.0, -999.0, 1.0, 1.0, 1.0, -999.0, 1.0, 1.0, -999.0, 1.0, 1.0, 1.0, -999.0, -999.0, 1.0, 1.0, -999.0, 1.0, -999.0, 1.0, -999.0, -999.0, -999.0, -999.0, -999.0, 1.0, -999.0, -999.0, -999.0, 1.0, 1.0, -999.0, -999.0, 1.0, 1.0, 1.0, -999.0, 1.0, 1.0, -999.0, 1.0, -999.0, -999.0, 1.0, -999.0, -999.0, 1.0, -999.0, -999.0, 1.0, 1.0, 1.0, -999.0, 1.0, -999.0, 1.0, 1.0, 1.0, 1.0, -999.0, -999.0, -999.0, -999.0, -999.0, -999.0, 1.0, 1.0, -999.0, 1.0, -999.0, 1.0, 1.0, -999.0, -999.0, 1.0, 1.0, 1.0, 1.0, 1.0, -999.0, -999.0, -999.0, 1.0, -999.0, -999.0, -999.0, 1.0, 1.0, 1.0, -999.0, -999.0, -999.0, -999.0, 1.0, 1.0, -999.0, 1.0, 1.0, -999.0, -999.0, 1.0, -999.0, 1.0, -999.0, 1.0, 1.0, 1.0, 1.0, 1.0, 1.0, -999.0, -999.0, 1.0, -999.0, 1.0, 1.0, 1.0, -999.0, 1.0, -999.0, 1.0, 1.0, -999.0, -999.0, -999.0, 1.0, -999.0, -999.0, 1.0, 1.0, -999.0, 1.0, -999.0, 1.0, 1.0, 1.0, -999.0, -999.0, 1.0, 1.0, -999.0, -999.0, -999.0, 1.0, 1.0, 1.0, -999.0, 1.0, 1.0, -999.0, -999.0, -999.0, 1.0, -999.0, 1.0, 1.0, -999.0, -999.0, 1.0, -999.0, 1.0, 1.0, -999.0, 1.0, 1.0, -999.0, -999.0, -999.0, -999.0, -999.0, -999.0, -999.0, 1.0, -999.0, -999.0, -999.0, -999.0, 1.0, -999.0, 1.0, -999.0, -999.0, -999.0, 1.0, -999.0, 1.0, -999.0, -999.0, -999.0, -999.0, 1.0, -999.0, 1.0, -999.0, 1.0, -999.0, 1.0, -999.0, -999.0, 1.0, -999.0, 1.0, -999.0, 1.0, 1.0, -999.0, 1.0, -999.0, 1.0, 1.0, 1.0, -999.0, -999.0, -999.0, 1.0, -999.0, 1.0, 1.0, 1.0, -999.0, -999.0, -999.0, 1.0, -999.0, 1.0, -999.0, 1.0, 1.0, 1.0, 1.0, -999.0, -999.0, -999.0, -999.0, -999.0, 1.0, 1.0, -999.0, -999.0, 1.0, 1.0, 1.0, 1.0, -999.0, -999.0, -999.0, 1.0, 1.0, -999.0, 1.0, -999.0, 1.0, -999.0, 1.0, 1.0, 1.0, -999.0, -999.0, -999.0, 1.0, -999.0, 1.0, 1.0, -999.0, -999.0, 1.0, 1.0, -999.0, 1.0, 1.0, -999.0, 1.0, 1.0, 1.0, -999.0, 1.0, -999.0, 1.0, -999.0, -999.0, -999.0, 1.0, -999.0, -999.0, -999.0, 1.0, 1.0, -999.0, 1.0, 1.0, 1.0, 1.0, 1.0, -999.0, 1.0, -999.0, 1.0, 1.0, -999.0, 1.0, -999.0, -999.0, 1.0, 1.0, 1.0, -999.0, -999.0, 1.0, -999.0, 1.0, 1.0, -999.0, 1.0, -999.0, 1.0, -999.0, -999.0, 1.0, 1.0, 1.0, -999.0, -999.0, 1.0, 1.0, 1.0, 1.0, 1.0, 1.0, 1.0, -999.0, -999.0, 1.0, -999.0, -999.0, -999.0, -999.0, -999.0, 1.0, -999.0, -999.0, -999.0, -999.0, -999.0, -999.0, -999.0, -999.0, 1.0, -999.0, -999.0, -999.0, -999.0, -999.0, 1.0, 1.0, 1.0, -999.0, -999.0, 1.0, -999.0, -999.0, -999.0, 1.0, 1.0, -999.0, 1.0, 1.0, 1.0, 1.0, -999.0, -999.0, 1.0, 1.0, 1.0, -999.0, 1.0, 1.0, -999.0, 1.0, -999.0, -999.0, 1.0, 1.0, -999.0, -999.0, -999.0, 1.0, -999.0, 1.0, -999.0, 1.0, -999.0, -999.0, 1.0, -999.0, -999.0, 1.0, -999.0, -999.0, -999.0, -999.0, 1.0, 1.0, -999.0, 1.0, -999.0, 1.0, 1.0, -999.0, 1.0, 1.0, 1.0, -999.0, 1.0, 1.0, -999.0, 1.0, 1.0, -999.0, 1.0, 1.0, 1.0, -999.0, -999.0, 1.0, -999.0, -999.0, 1.0, -999.0, 1.0, -999.0, 1.0, 1.0, -999.0, -999.0, -999.0, 1.0, 1.0, -999.0, -999.0, 1.0, 1.0, -999.0, 1.0, -999.0, 1.0, 1.0, -999.0, -999.0, -999.0, 1.0, 1.0, -999.0, -999.0, 1.0, 1.0, -999.0, -999.0, -999.0, -999.0, -999.0, -999.0, -999.0, -999.0, -999.0, 1.0, -999.0, -999.0, 1.0, -999.0, -999.0, -999.0, -999.0, -999.0, -999.0, -999.0, -999.0, 1.0, 1.0, -999.0, -999.0, 1.0, -999.0, -999.0, -999.0, 1.0, -999.0, -999.0, -999.0, -999.0, 1.0, 1.0, 1.0, -999.0, 1.0, 1.0, 1.0, 1.0, -999.0, 1.0, -999.0, -999.0, -999.0, -999.0, 1.0, 1.0, -999.0, 1.0, 1.0, 1.0, 1.0, 1.0, -999.0, -999.0, -999.0, 1.0, 1.0, 1.0, -999.0, 1.0, -999.0, 1.0, 1.0, 1.0, -999.0, 1.0, -999.0, -999.0, -999.0, 1.0, 1.0, 1.0, -999.0, -999.0, -999.0, 1.0, -999.0, -999.0, -999.0, -999.0, -999.0, 1.0, -999.0, 1.0, -999.0, 1.0, -999.0, -999.0, -999.0, -999.0, -999.0, -999.0, -999.0, -999.0, -999.0, -999.0, -999.0, 1.0, -999.0, 1.0, 1.0, -999.0, -999.0, 1.0, -999.0, -999.0, 1.0, 1.0, -999.0, -999.0, -999.0, 1.0, 1.0, -999.0, -999.0, 1.0, 1.0, 1.0, -999.0, 1.0, 1.0, -999.0, 1.0, 1.0, -999.0, 1.0, 1.0, -999.0, -999.0, -999.0, 1.0, -999.0, -999.0, 1.0, -999.0, 1.0, -999.0, 1.0, -999.0, -999.0, -999.0, 1.0, 1.0, 1.0, 1.0, -999.0, -999.0, 1.0, -999.0, -999.0, -999.0, 1.0, 1.0, -999.0, 1.0, -999.0, 1.0, -999.0, -999.0, 1.0, 1.0, 1.0, -999.0, 1.0, -999.0, 1.0, 1.0, -999.0, -999.0, -999.0, 1.0, 1.0, -999.0, -999.0, -999.0, -999.0, 1.0, -999.0, -999.0, 1.0, -999.0, 1.0, -999.0, 1.0, 1.0, 1.0, -999.0, 1.0, 1.0, -999.0, -999.0, -999.0, 1.0, -999.0, -999.0, -999.0, 1.0, -999.0, -999.0, 1.0, 1.0, 1.0, -999.0, 1.0, 1.0, -999.0, 1.0, 1.0, -999.0, 1.0, -999.0, -999.0, -999.0, 1.0, 1.0, 1.0, -999.0, 1.0, 1.0, 1.0, -999.0, 1.0, 1.0, -999.0, 1.0, -999.0, -999.0, 1.0, -999.0, -999.0, 1.0, -999.0, -999.0, 1.0, 1.0, 1.0, -999.0, 1.0, 1.0, -999.0, 1.0, -999.0, -999.0, -999.0, -999.0, -999.0, 1.0, 1.0, -999.0, 1.0, 1.0, -999.0, -999.0, 1.0, -999.0, 1.0, -999.0, 1.0, -999.0, -999.0, 1.0, 1.0, 1.0, 1.0, -999.0, -999.0, 1.0, 1.0, 1.0, 1.0, 1.0, 1.0, -999.0, -999.0, 1.0, -999.0, -999.0, -999.0, -999.0, -999.0, -999.0, -999.0, -999.0, -999.0, 1.0, 1.0, -999.0, 1.0, 1.0, 1.0, 1.0, -999.0, -999.0, 1.0, -999.0, 1.0, 1.0, -999.0, -999.0, -999.0, 1.0, -999.0, -999.0, 1.0, -999.0, -999.0, 1.0, -999.0, -999.0, 1.0, 1.0, -999.0, 1.0, -999.0, 1.0, -999.0, -999.0, 1.0, 1.0, 1.0, -999.0, 1.0, 1.0, 1.0, -999.0, 1.0, 1.0, -999.0, 1.0, -999.0, -999.0, 1.0, 1.0, -999.0, -999.0, 1.0, -999.0, 1.0, 1.0, 1.0, 1.0, -999.0, -999.0, -999.0, -999.0, 1.0, 1.0, 1.0, 1.0, 1.0, -999.0, 1.0, 1.0, -999.0, -999.0, -999.0, 1.0, 1.0, 1.0, -999.0, 1.0, 1.0, 1.0, 1.0, 1.0, -999.0, 1.0, -999.0, -999.0, -999.0, 1.0, 1.0, -999.0, 1.0, 1.0, 1.0, 1.0, -999.0, 1.0, -999.0, -999.0, 1.0, 1.0, 1.0, 1.0, -999.0, -999.0, 1.0, 1.0, 1.0, -999.0, 1.0, 1.0, -999.0, -999.0, -999.0, -999.0, -999.0, -999.0, 1.0, 1.0, -999.0, 1.0, -999.0, -999.0, -999.0, 1.0, 1.0, 1.0, -999.0, -999.0, 1.0, -999.0, -999.0, 1.0, -999.0, -999.0, -999.0, -999.0, 1.0, -999.0, 1.0, -999.0, -999.0, 1.0, -999.0, -999.0, -999.0, -999.0, -999.0, 1.0, -999.0, 1.0, 1.0, -999.0, -999.0, 1.0, 1.0, 1.0, 1.0, -999.0, -999.0, -999.0, -999.0, -999.0, 1.0, 1.0, 1.0, -999.0, -999.0, 1.0, 1.0, -999.0, -999.0, 1.0, 1.0, -999.0, 1.0, -999.0, -999.0, -999.0, -999.0, -999.0, -999.0, -999.0, -999.0, 1.0, 1.0, 1.0, 1.0, -999.0, -999.0, -999.0, 1.0, 1.0, -999.0, 1.0, 1.0, -999.0, 1.0, 1.0, -999.0, 1.0, -999.0, -999.0, 1.0, -999.0, 1.0, 1.0, 1.0, -999.0, 1.0, 1.0, 1.0, 1.0, -999.0, -999.0, -999.0, 1.0, -999.0, -999.0, -999.0, 1.0, -999.0, 1.0, -999.0, -999.0, -999.0, 1.0, 1.0, 1.0, 1.0, -999.0, -999.0, -999.0, -999.0, 1.0, 1.0, 1.0, -999.0, 1.0, 1.0, -999.0, 1.0, -999.0, -999.0, -999.0, 1.0, 1.0, -999.0, -999.0, -999.0, -999.0, 1.0, -999.0, 1.0, 1.0, 1.0, 1.0, -999.0, -999.0, -999.0, 1.0, 1.0, -999.0, 1.0, -999.0, 1.0, 1.0, -999.0, -999.0, 1.0, 1.0, 1.0, 1.0, -999.0, 1.0, -999.0, -999.0, -999.0, 1.0, 1.0, 1.0, -999.0, -999.0, -999.0, -999.0, -999.0, 1.0, -999.0, 1.0, -999.0, -999.0, -999.0, 1.0, -999.0, -999.0, -999.0, 1.0, -999.0, 1.0, -999.0, 1.0, 1.0, -999.0, 1.0, -999.0, -999.0, 1.0, 1.0, -999.0, 1.0, -999.0, 1.0, 1.0, 1.0, 1.0, 1.0, 1.0, -999.0, -999.0, -999.0, -999.0, 1.0, -999.0, 1.0, -999.0, 1.0, -999.0, 1.0, -999.0, 1.0, 1.0, 1.0, 1.0, -999.0]\n"
     ]
    }
   ],
   "source": [
    "# This cell should output a list of predictions.\n",
    "test_df = pd.read_parquet(filepath)\n",
    "print(testing_hidden_data(test_df))"
   ]
  },
  {
   "cell_type": "code",
   "execution_count": 193,
   "metadata": {},
   "outputs": [],
   "source": [
    "### Please have the filename renamed and ensure that it can be run with the requirements above being met. All the best!"
   ]
  },
  {
   "cell_type": "code",
   "execution_count": null,
   "metadata": {},
   "outputs": [],
   "source": []
  }
 ],
 "metadata": {
  "kernelspec": {
   "display_name": "Python 3 (ipykernel)",
   "language": "python",
   "name": "python3"
  },
  "language_info": {
   "codemirror_mode": {
    "name": "ipython",
    "version": 3
   },
   "file_extension": ".py",
   "mimetype": "text/x-python",
   "name": "python",
   "nbconvert_exporter": "python",
   "pygments_lexer": "ipython3",
   "version": "3.11.1"
  }
 },
 "nbformat": 4,
 "nbformat_minor": 4
}
